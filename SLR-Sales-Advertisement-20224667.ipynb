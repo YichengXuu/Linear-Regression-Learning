{
 "cells": [
  {
   "cell_type": "markdown",
   "id": "3f6ed6d0",
   "metadata": {},
   "source": [
    "# Build a Simple Linear Regression Model and Make Predictions"
   ]
  },
  {
   "cell_type": "code",
   "id": "deeea6e6",
   "metadata": {
    "ExecuteTime": {
     "end_time": "2024-09-13T03:41:24.226392Z",
     "start_time": "2024-09-13T03:41:24.225018Z"
    }
   },
   "source": [
    "#Supress Warnings\n",
    "#import warnings\n",
    "#warnings.filterwarnings('ignore')"
   ],
   "outputs": [],
   "execution_count": 1
  },
  {
   "cell_type": "code",
   "id": "65990882",
   "metadata": {
    "ExecuteTime": {
     "end_time": "2024-09-13T03:41:24.235248Z",
     "start_time": "2024-09-13T03:41:24.233395Z"
    }
   },
   "source": [
    "# Importing naumpy and pandas libraries to read the data\n",
    "\n",
    "import numpy as np\n",
    "import pandas as pd"
   ],
   "outputs": [],
   "execution_count": 2
  },
  {
   "cell_type": "markdown",
   "id": "ca4ba977",
   "metadata": {},
   "source": [
    "# Steps for Building a Simple Linear Regression Model:                                                             \n",
    "1 Loading and Understanding the dataset  \n",
    "2 Visualizing the dataset  \n",
    "3 Performing Simple Linear Regression (SLR)  \n",
    "4 Residual Analysis  \n",
    "5 Predictions on the test dataset"
   ]
  },
  {
   "cell_type": "markdown",
   "id": "0beaaf4e",
   "metadata": {},
   "source": [
    "# 1 Loading and Understanding the Dataset"
   ]
  },
  {
   "cell_type": "code",
   "id": "aeab1adc",
   "metadata": {
    "ExecuteTime": {
     "end_time": "2024-09-13T03:41:24.306195Z",
     "start_time": "2024-09-13T03:41:24.296155Z"
    }
   },
   "source": [
    "\n",
    "advertising = pd.read_csv(\"sales_advertisement.csv\")\n",
    "advertising"
   ],
   "outputs": [
    {
     "data": {
      "text/plain": [
       "        TV  Radio  Newspaper  Sales\n",
       "0    230.1   37.8       69.2   22.1\n",
       "1     44.5   39.3       45.1   10.4\n",
       "2     17.2   45.9       69.3   12.0\n",
       "3    151.5   41.3       58.5   16.5\n",
       "4    180.8   10.8       58.4   17.9\n",
       "..     ...    ...        ...    ...\n",
       "195   38.2    3.7       13.8    7.6\n",
       "196   94.2    4.9        8.1   14.0\n",
       "197  177.0    9.3        6.4   14.8\n",
       "198  283.6   42.0       66.2   25.5\n",
       "199  232.1    8.6        8.7   18.4\n",
       "\n",
       "[200 rows x 4 columns]"
      ],
      "text/html": [
       "<div>\n",
       "<style scoped>\n",
       "    .dataframe tbody tr th:only-of-type {\n",
       "        vertical-align: middle;\n",
       "    }\n",
       "\n",
       "    .dataframe tbody tr th {\n",
       "        vertical-align: top;\n",
       "    }\n",
       "\n",
       "    .dataframe thead th {\n",
       "        text-align: right;\n",
       "    }\n",
       "</style>\n",
       "<table border=\"1\" class=\"dataframe\">\n",
       "  <thead>\n",
       "    <tr style=\"text-align: right;\">\n",
       "      <th></th>\n",
       "      <th>TV</th>\n",
       "      <th>Radio</th>\n",
       "      <th>Newspaper</th>\n",
       "      <th>Sales</th>\n",
       "    </tr>\n",
       "  </thead>\n",
       "  <tbody>\n",
       "    <tr>\n",
       "      <th>0</th>\n",
       "      <td>230.1</td>\n",
       "      <td>37.8</td>\n",
       "      <td>69.2</td>\n",
       "      <td>22.1</td>\n",
       "    </tr>\n",
       "    <tr>\n",
       "      <th>1</th>\n",
       "      <td>44.5</td>\n",
       "      <td>39.3</td>\n",
       "      <td>45.1</td>\n",
       "      <td>10.4</td>\n",
       "    </tr>\n",
       "    <tr>\n",
       "      <th>2</th>\n",
       "      <td>17.2</td>\n",
       "      <td>45.9</td>\n",
       "      <td>69.3</td>\n",
       "      <td>12.0</td>\n",
       "    </tr>\n",
       "    <tr>\n",
       "      <th>3</th>\n",
       "      <td>151.5</td>\n",
       "      <td>41.3</td>\n",
       "      <td>58.5</td>\n",
       "      <td>16.5</td>\n",
       "    </tr>\n",
       "    <tr>\n",
       "      <th>4</th>\n",
       "      <td>180.8</td>\n",
       "      <td>10.8</td>\n",
       "      <td>58.4</td>\n",
       "      <td>17.9</td>\n",
       "    </tr>\n",
       "    <tr>\n",
       "      <th>...</th>\n",
       "      <td>...</td>\n",
       "      <td>...</td>\n",
       "      <td>...</td>\n",
       "      <td>...</td>\n",
       "    </tr>\n",
       "    <tr>\n",
       "      <th>195</th>\n",
       "      <td>38.2</td>\n",
       "      <td>3.7</td>\n",
       "      <td>13.8</td>\n",
       "      <td>7.6</td>\n",
       "    </tr>\n",
       "    <tr>\n",
       "      <th>196</th>\n",
       "      <td>94.2</td>\n",
       "      <td>4.9</td>\n",
       "      <td>8.1</td>\n",
       "      <td>14.0</td>\n",
       "    </tr>\n",
       "    <tr>\n",
       "      <th>197</th>\n",
       "      <td>177.0</td>\n",
       "      <td>9.3</td>\n",
       "      <td>6.4</td>\n",
       "      <td>14.8</td>\n",
       "    </tr>\n",
       "    <tr>\n",
       "      <th>198</th>\n",
       "      <td>283.6</td>\n",
       "      <td>42.0</td>\n",
       "      <td>66.2</td>\n",
       "      <td>25.5</td>\n",
       "    </tr>\n",
       "    <tr>\n",
       "      <th>199</th>\n",
       "      <td>232.1</td>\n",
       "      <td>8.6</td>\n",
       "      <td>8.7</td>\n",
       "      <td>18.4</td>\n",
       "    </tr>\n",
       "  </tbody>\n",
       "</table>\n",
       "<p>200 rows × 4 columns</p>\n",
       "</div>"
      ]
     },
     "execution_count": 3,
     "metadata": {},
     "output_type": "execute_result"
    }
   ],
   "execution_count": 3
  },
  {
   "cell_type": "markdown",
   "id": "ff40f0fb",
   "metadata": {},
   "source": [
    "Note: In this dataset, we have three columns as Independent Variables TV, Radio and Newpapers and a Depdenent Variable column \"Sales\""
   ]
  },
  {
   "cell_type": "code",
   "id": "2c11fa8f",
   "metadata": {
    "ExecuteTime": {
     "end_time": "2024-09-13T03:41:24.337666Z",
     "start_time": "2024-09-13T03:41:24.335195Z"
    }
   },
   "source": [
    "# Shape of our dataset\n",
    "advertising.shape"
   ],
   "outputs": [
    {
     "data": {
      "text/plain": [
       "(200, 4)"
      ]
     },
     "execution_count": 4,
     "metadata": {},
     "output_type": "execute_result"
    }
   ],
   "execution_count": 4
  },
  {
   "cell_type": "code",
   "id": "1f2354d2",
   "metadata": {
    "ExecuteTime": {
     "end_time": "2024-09-13T03:41:24.401050Z",
     "start_time": "2024-09-13T03:41:24.396724Z"
    }
   },
   "source": [
    "# Info our dataset\n",
    "advertising.info()"
   ],
   "outputs": [
    {
     "name": "stdout",
     "output_type": "stream",
     "text": [
      "<class 'pandas.core.frame.DataFrame'>\n",
      "RangeIndex: 200 entries, 0 to 199\n",
      "Data columns (total 4 columns):\n",
      " #   Column     Non-Null Count  Dtype  \n",
      "---  ------     --------------  -----  \n",
      " 0   TV         200 non-null    float64\n",
      " 1   Radio      200 non-null    float64\n",
      " 2   Newspaper  200 non-null    float64\n",
      " 3   Sales      200 non-null    float64\n",
      "dtypes: float64(4)\n",
      "memory usage: 6.4 KB\n"
     ]
    }
   ],
   "execution_count": 5
  },
  {
   "cell_type": "code",
   "id": "8877958f",
   "metadata": {
    "ExecuteTime": {
     "end_time": "2024-09-13T03:41:24.481276Z",
     "start_time": "2024-09-13T03:41:24.473333Z"
    }
   },
   "source": [
    "# Describe our dataset\n",
    "advertising.describe()"
   ],
   "outputs": [
    {
     "data": {
      "text/plain": [
       "               TV       Radio   Newspaper       Sales\n",
       "count  200.000000  200.000000  200.000000  200.000000\n",
       "mean   147.042500   23.264000   30.554000   15.130500\n",
       "std     85.854236   14.846809   21.778621    5.283892\n",
       "min      0.700000    0.000000    0.300000    1.600000\n",
       "25%     74.375000    9.975000   12.750000   11.000000\n",
       "50%    149.750000   22.900000   25.750000   16.000000\n",
       "75%    218.825000   36.525000   45.100000   19.050000\n",
       "max    296.400000   49.600000  114.000000   27.000000"
      ],
      "text/html": [
       "<div>\n",
       "<style scoped>\n",
       "    .dataframe tbody tr th:only-of-type {\n",
       "        vertical-align: middle;\n",
       "    }\n",
       "\n",
       "    .dataframe tbody tr th {\n",
       "        vertical-align: top;\n",
       "    }\n",
       "\n",
       "    .dataframe thead th {\n",
       "        text-align: right;\n",
       "    }\n",
       "</style>\n",
       "<table border=\"1\" class=\"dataframe\">\n",
       "  <thead>\n",
       "    <tr style=\"text-align: right;\">\n",
       "      <th></th>\n",
       "      <th>TV</th>\n",
       "      <th>Radio</th>\n",
       "      <th>Newspaper</th>\n",
       "      <th>Sales</th>\n",
       "    </tr>\n",
       "  </thead>\n",
       "  <tbody>\n",
       "    <tr>\n",
       "      <th>count</th>\n",
       "      <td>200.000000</td>\n",
       "      <td>200.000000</td>\n",
       "      <td>200.000000</td>\n",
       "      <td>200.000000</td>\n",
       "    </tr>\n",
       "    <tr>\n",
       "      <th>mean</th>\n",
       "      <td>147.042500</td>\n",
       "      <td>23.264000</td>\n",
       "      <td>30.554000</td>\n",
       "      <td>15.130500</td>\n",
       "    </tr>\n",
       "    <tr>\n",
       "      <th>std</th>\n",
       "      <td>85.854236</td>\n",
       "      <td>14.846809</td>\n",
       "      <td>21.778621</td>\n",
       "      <td>5.283892</td>\n",
       "    </tr>\n",
       "    <tr>\n",
       "      <th>min</th>\n",
       "      <td>0.700000</td>\n",
       "      <td>0.000000</td>\n",
       "      <td>0.300000</td>\n",
       "      <td>1.600000</td>\n",
       "    </tr>\n",
       "    <tr>\n",
       "      <th>25%</th>\n",
       "      <td>74.375000</td>\n",
       "      <td>9.975000</td>\n",
       "      <td>12.750000</td>\n",
       "      <td>11.000000</td>\n",
       "    </tr>\n",
       "    <tr>\n",
       "      <th>50%</th>\n",
       "      <td>149.750000</td>\n",
       "      <td>22.900000</td>\n",
       "      <td>25.750000</td>\n",
       "      <td>16.000000</td>\n",
       "    </tr>\n",
       "    <tr>\n",
       "      <th>75%</th>\n",
       "      <td>218.825000</td>\n",
       "      <td>36.525000</td>\n",
       "      <td>45.100000</td>\n",
       "      <td>19.050000</td>\n",
       "    </tr>\n",
       "    <tr>\n",
       "      <th>max</th>\n",
       "      <td>296.400000</td>\n",
       "      <td>49.600000</td>\n",
       "      <td>114.000000</td>\n",
       "      <td>27.000000</td>\n",
       "    </tr>\n",
       "  </tbody>\n",
       "</table>\n",
       "</div>"
      ]
     },
     "execution_count": 6,
     "metadata": {},
     "output_type": "execute_result"
    }
   ],
   "execution_count": 6
  },
  {
   "cell_type": "markdown",
   "id": "1b5c0a00",
   "metadata": {},
   "source": [
    "# 2 Visualizing the Dataset"
   ]
  },
  {
   "cell_type": "code",
   "id": "ce9457a5",
   "metadata": {
    "ExecuteTime": {
     "end_time": "2024-09-13T03:41:24.538035Z",
     "start_time": "2024-09-13T03:41:24.535922Z"
    }
   },
   "source": [
    "# Import matplotlib and seaborn libraries to visualize the data\n",
    "import matplotlib.pyplot as plt \n",
    "import seaborn as sns"
   ],
   "outputs": [],
   "execution_count": 7
  },
  {
   "cell_type": "code",
   "id": "1baa7227",
   "metadata": {
    "ExecuteTime": {
     "end_time": "2024-09-13T03:41:24.802099Z",
     "start_time": "2024-09-13T03:41:24.579283Z"
    }
   },
   "source": [
    "# Using pairplot we'll visualize the data for correlation\n",
    "sns.pairplot(advertising, x_vars=['TV', 'Radio','Newspaper'], \n",
    "             y_vars='Sales', height=4, aspect=1, kind='scatter')\n",
    "plt.show()"
   ],
   "outputs": [
    {
     "data": {
      "text/plain": [
       "<Figure size 1200x400 with 3 Axes>"
      ],
      "image/png": "[encoded data removed]"
     },
     "metadata": {},
     "output_type": "display_data"
    }
   ],
   "execution_count": 8
  },
  {
   "cell_type": "code",
   "id": "a649f672",
   "metadata": {
    "ExecuteTime": {
     "end_time": "2024-09-13T03:41:24.886851Z",
     "start_time": "2024-09-13T03:41:24.820172Z"
    }
   },
   "source": [
    "# Visualizing the data using heatmap\n",
    "sns.heatmap(advertising.corr(), cmap=\"YlGnBu\", annot = True)\n",
    "plt.show()"
   ],
   "outputs": [
    {
     "data": {
      "text/plain": [
       "<Figure size 640x480 with 2 Axes>"
      ],
      "image/png": "[encoded data removed]"
     },
     "metadata": {},
     "output_type": "display_data"
    }
   ],
   "execution_count": 9
  },
  {
   "cell_type": "markdown",
   "id": "577fd06d",
   "metadata": {
    "jp-MarkdownHeadingCollapsed": true
   },
   "source": [
    "# 3 Performing Simple Linear Regression (for \"TV\" Independent Variable because the TV column seems most correlated to Sales Depdent Variable.)\n",
    "Equation of simple linear regression: y = mX + b\n",
    "\n",
    "In our case:\n",
    "y = m * TV + b\n",
    "\n",
    "Perform simple linear regression in four steps:\n",
    "A) Create/Separate X (Independent Variable) and y (Dependent/Target Variable)\n",
    "B) Create/Split Training and Test datasets from the Original Dataset\n",
    "C) Build/Train the SLR Model\n",
    "D) Test/Evaluate the SLR Model"
   ]
  },
  {
   "cell_type": "markdown",
   "id": "4e31bfb6",
   "metadata": {},
   "source": [
    "# A) Create/Separate X (Independent Variable) and y (Dependent/Target Variable)"
   ]
  },
  {
   "cell_type": "code",
   "id": "8d8aebfa",
   "metadata": {
    "ExecuteTime": {
     "end_time": "2024-09-13T03:41:24.902353Z",
     "start_time": "2024-09-13T03:41:24.900569Z"
    }
   },
   "source": [
    "\n",
    "# we will assign our Independent Variable/Column TV as X and our Dependent/Target Variable Sales as y.\n",
    "# X = Independent Variable = TV and y = Dependent/Target Variable = Sales\n",
    "\n",
    "# Creating X and y\n",
    "X = advertising['TV']\n",
    "y = advertising['Sales']"
   ],
   "outputs": [],
   "execution_count": 10
  },
  {
   "cell_type": "markdown",
   "id": "f1fafb64",
   "metadata": {},
   "source": [
    "# B) Create/Split Training and Test Datasets from the Original Dataset"
   ]
  },
  {
   "cell_type": "code",
   "id": "c8749846",
   "metadata": {
    "ExecuteTime": {
     "end_time": "2024-09-13T03:41:24.965302Z",
     "start_time": "2024-09-13T03:41:24.910906Z"
    }
   },
   "source": [
    "\n",
    "\n",
    "# Splitting the Varaibles as Training and Testing\n",
    "from sklearn.model_selection import train_test_split\n",
    "X_train, X_test, y_train, y_test = train_test_split(X, y, train_size = 0.7, \n",
    "                                                    test_size = 0.3, random_state = 100)"
   ],
   "outputs": [],
   "execution_count": 11
  },
  {
   "cell_type": "code",
   "id": "31ca7a61",
   "metadata": {
    "ExecuteTime": {
     "end_time": "2024-09-13T03:41:24.980771Z",
     "start_time": "2024-09-13T03:41:24.977672Z"
    }
   },
   "source": [
    "# Take a look at the Training Dataset\n",
    "X_train\n",
    "y_train"
   ],
   "outputs": [
    {
     "data": {
      "text/plain": [
       "74     17.0\n",
       "3      16.5\n",
       "185    22.6\n",
       "26     15.0\n",
       "90     14.0\n",
       "       ... \n",
       "87     16.0\n",
       "103    19.7\n",
       "67     13.4\n",
       "24      9.7\n",
       "8       4.8\n",
       "Name: Sales, Length: 140, dtype: float64"
      ]
     },
     "execution_count": 12,
     "metadata": {},
     "output_type": "execute_result"
    }
   ],
   "execution_count": 12
  },
  {
   "cell_type": "code",
   "id": "1662e223",
   "metadata": {
    "ExecuteTime": {
     "end_time": "2024-09-13T03:41:25.010519Z",
     "start_time": "2024-09-13T03:41:25.006802Z"
    }
   },
   "source": [
    "# Take a look at the Test Dataset (which will be used for Evaluation/Prediction)\n",
    "X_test\n",
    "y_test"
   ],
   "outputs": [
    {
     "data": {
      "text/plain": [
       "126     6.6\n",
       "104    20.7\n",
       "99     17.2\n",
       "92     19.4\n",
       "111    21.8\n",
       "167    17.2\n",
       "116    12.2\n",
       "96     16.7\n",
       "52     22.6\n",
       "69     22.3\n",
       "164    11.9\n",
       "124    19.7\n",
       "182     8.7\n",
       "154    20.6\n",
       "125    10.6\n",
       "196    14.0\n",
       "194    17.3\n",
       "177    16.7\n",
       "163    18.0\n",
       "31     11.9\n",
       "11     17.4\n",
       "73     11.0\n",
       "15     22.4\n",
       "41     17.1\n",
       "97     20.5\n",
       "128    24.7\n",
       "133    19.6\n",
       "82     11.3\n",
       "139    20.7\n",
       "123    15.2\n",
       "83     13.6\n",
       "65     11.3\n",
       "151    11.6\n",
       "162    19.9\n",
       "170     8.4\n",
       "77     14.2\n",
       "32     13.2\n",
       "173    16.7\n",
       "174    16.5\n",
       "85     20.2\n",
       "168    17.1\n",
       "112    17.1\n",
       "171    17.5\n",
       "181    17.2\n",
       "7      13.2\n",
       "46     10.6\n",
       "75      8.7\n",
       "28     18.9\n",
       "29     10.5\n",
       "195     7.6\n",
       "40     16.6\n",
       "153    16.0\n",
       "115    12.6\n",
       "64     16.0\n",
       "59     18.4\n",
       "1      10.4\n",
       "192     5.9\n",
       "136     9.5\n",
       "152    16.6\n",
       "161    13.3\n",
       "Name: Sales, dtype: float64"
      ]
     },
     "execution_count": 13,
     "metadata": {},
     "output_type": "execute_result"
    }
   ],
   "execution_count": 13
  },
  {
   "cell_type": "markdown",
   "id": "21db4641",
   "metadata": {},
   "source": [
    "# C) Build/Train the SLR Model\n",
    "Using the following two packages, we can build a Simple Linear Regression (SLR) model:\n",
    "statsmodel \n",
    "sklearn"
   ]
  },
  {
   "cell_type": "code",
   "id": "10c8dfec",
   "metadata": {
    "ExecuteTime": {
     "end_time": "2024-09-13T03:41:25.229762Z",
     "start_time": "2024-09-13T03:41:25.064566Z"
    }
   },
   "source": [
    "# First, we are building SLR Model using statsmodel package\n",
    "\n",
    "# Importing Statsmodels.api library from Stamodel package\n",
    "import statsmodels.api as sm"
   ],
   "outputs": [],
   "execution_count": 14
  },
  {
   "cell_type": "code",
   "id": "fe48be4e",
   "metadata": {
    "ExecuteTime": {
     "end_time": "2024-09-13T03:41:25.235505Z",
     "start_time": "2024-09-13T03:41:25.233128Z"
    }
   },
   "source": [
    "# Adding a constant to get an intercept\n",
    "X_train_sm = sm.add_constant(X_train)"
   ],
   "outputs": [],
   "execution_count": 15
  },
  {
   "cell_type": "code",
   "id": "37d89001",
   "metadata": {
    "ExecuteTime": {
     "end_time": "2024-09-13T03:41:25.294897Z",
     "start_time": "2024-09-13T03:41:25.291752Z"
    }
   },
   "source": [
    "# Once we’ve added constant, we can fit the regression line using OLS (Ordinary Least Square) method present in the statsmodel. \n",
    "# After that, we will see the parameters, i.e., b and m of the straight line.\n",
    "\n",
    "# Fitting the resgression line using 'OLS'\n",
    "lr = sm.OLS(y_train, X_train_sm).fit()\n",
    "\n",
    "# Printing the parameters (Intercept \"b\"=6.94 and Slope \"m\"=0.054 of the line)\n",
    "lr.params"
   ],
   "outputs": [
    {
     "data": {
      "text/plain": [
       "const    6.948683\n",
       "TV       0.054546\n",
       "dtype: float64"
      ]
     },
     "execution_count": 16,
     "metadata": {},
     "output_type": "execute_result"
    }
   ],
   "execution_count": 16
  },
  {
   "cell_type": "code",
   "id": "2552e5a1",
   "metadata": {
    "ExecuteTime": {
     "end_time": "2024-09-13T03:41:25.353144Z",
     "start_time": "2024-09-13T03:41:25.343424Z"
    }
   },
   "source": [
    "# Performing a summary to list out all the different parameters of the regression line fitted\n",
    "#  like R², probability of F-statistic, and p-value.\n",
    "lr.summary()"
   ],
   "outputs": [
    {
     "data": {
      "text/plain": [
       "<class 'statsmodels.iolib.summary.Summary'>\n",
       "\"\"\"\n",
       "                            OLS Regression Results                            \n",
       "==============================================================================\n",
       "Dep. Variable:                  Sales   R-squared:                       0.816\n",
       "Model:                            OLS   Adj. R-squared:                  0.814\n",
       "Method:                 Least Squares   F-statistic:                     611.2\n",
       "Date:                Fri, 13 Sep 2024   Prob (F-statistic):           1.52e-52\n",
       "Time:                        11:41:25   Log-Likelihood:                -321.12\n",
       "No. Observations:                 140   AIC:                             646.2\n",
       "Df Residuals:                     138   BIC:                             652.1\n",
       "Df Model:                           1                                         \n",
       "Covariance Type:            nonrobust                                         \n",
       "==============================================================================\n",
       "                 coef    std err          t      P>|t|      [0.025      0.975]\n",
       "------------------------------------------------------------------------------\n",
       "const          6.9487      0.385     18.068      0.000       6.188       7.709\n",
       "TV             0.0545      0.002     24.722      0.000       0.050       0.059\n",
       "==============================================================================\n",
       "Omnibus:                        0.027   Durbin-Watson:                   2.196\n",
       "Prob(Omnibus):                  0.987   Jarque-Bera (JB):                0.150\n",
       "Skew:                          -0.006   Prob(JB):                        0.928\n",
       "Kurtosis:                       2.840   Cond. No.                         328.\n",
       "==============================================================================\n",
       "\n",
       "Notes:\n",
       "[1] Standard Errors assume that the covariance matrix of the errors is correctly specified.\n",
       "\"\"\""
      ],
      "text/html": [
       "<table class=\"simpletable\">\n",
       "<caption>OLS Regression Results</caption>\n",
       "<tr>\n",
       "  <th>Dep. Variable:</th>          <td>Sales</td>      <th>  R-squared:         </th> <td>   0.816</td>\n",
       "</tr>\n",
       "<tr>\n",
       "  <th>Model:</th>                   <td>OLS</td>       <th>  Adj. R-squared:    </th> <td>   0.814</td>\n",
       "</tr>\n",
       "<tr>\n",
       "  <th>Method:</th>             <td>Least Squares</td>  <th>  F-statistic:       </th> <td>   611.2</td>\n",
       "</tr>\n",
       "<tr>\n",
       "  <th>Date:</th>             <td>Fri, 13 Sep 2024</td> <th>  Prob (F-statistic):</th> <td>1.52e-52</td>\n",
       "</tr>\n",
       "<tr>\n",
       "  <th>Time:</th>                 <td>11:41:25</td>     <th>  Log-Likelihood:    </th> <td> -321.12</td>\n",
       "</tr>\n",
       "<tr>\n",
       "  <th>No. Observations:</th>      <td>   140</td>      <th>  AIC:               </th> <td>   646.2</td>\n",
       "</tr>\n",
       "<tr>\n",
       "  <th>Df Residuals:</th>          <td>   138</td>      <th>  BIC:               </th> <td>   652.1</td>\n",
       "</tr>\n",
       "<tr>\n",
       "  <th>Df Model:</th>              <td>     1</td>      <th>                     </th>     <td> </td>   \n",
       "</tr>\n",
       "<tr>\n",
       "  <th>Covariance Type:</th>      <td>nonrobust</td>    <th>                     </th>     <td> </td>   \n",
       "</tr>\n",
       "</table>\n",
       "<table class=\"simpletable\">\n",
       "<tr>\n",
       "    <td></td>       <th>coef</th>     <th>std err</th>      <th>t</th>      <th>P>|t|</th>  <th>[0.025</th>    <th>0.975]</th>  \n",
       "</tr>\n",
       "<tr>\n",
       "  <th>const</th> <td>    6.9487</td> <td>    0.385</td> <td>   18.068</td> <td> 0.000</td> <td>    6.188</td> <td>    7.709</td>\n",
       "</tr>\n",
       "<tr>\n",
       "  <th>TV</th>    <td>    0.0545</td> <td>    0.002</td> <td>   24.722</td> <td> 0.000</td> <td>    0.050</td> <td>    0.059</td>\n",
       "</tr>\n",
       "</table>\n",
       "<table class=\"simpletable\">\n",
       "<tr>\n",
       "  <th>Omnibus:</th>       <td> 0.027</td> <th>  Durbin-Watson:     </th> <td>   2.196</td>\n",
       "</tr>\n",
       "<tr>\n",
       "  <th>Prob(Omnibus):</th> <td> 0.987</td> <th>  Jarque-Bera (JB):  </th> <td>   0.150</td>\n",
       "</tr>\n",
       "<tr>\n",
       "  <th>Skew:</th>          <td>-0.006</td> <th>  Prob(JB):          </th> <td>   0.928</td>\n",
       "</tr>\n",
       "<tr>\n",
       "  <th>Kurtosis:</th>      <td> 2.840</td> <th>  Cond. No.          </th> <td>    328.</td>\n",
       "</tr>\n",
       "</table><br/><br/>Notes:<br/>[1] Standard Errors assume that the covariance matrix of the errors is correctly specified."
      ],
      "text/latex": "\\begin{center}\n\\begin{tabular}{lclc}\n\\toprule\n\\textbf{Dep. Variable:}    &      Sales       & \\textbf{  R-squared:         } &     0.816   \\\\\n\\textbf{Model:}            &       OLS        & \\textbf{  Adj. R-squared:    } &     0.814   \\\\\n\\textbf{Method:}           &  Least Squares   & \\textbf{  F-statistic:       } &     611.2   \\\\\n\\textbf{Date:}             & Fri, 13 Sep 2024 & \\textbf{  Prob (F-statistic):} &  1.52e-52   \\\\\n\\textbf{Time:}             &     11:41:25     & \\textbf{  Log-Likelihood:    } &   -321.12   \\\\\n\\textbf{No. Observations:} &         140      & \\textbf{  AIC:               } &     646.2   \\\\\n\\textbf{Df Residuals:}     &         138      & \\textbf{  BIC:               } &     652.1   \\\\\n\\textbf{Df Model:}         &           1      & \\textbf{                     } &             \\\\\n\\textbf{Covariance Type:}  &    nonrobust     & \\textbf{                     } &             \\\\\n\\bottomrule\n\\end{tabular}\n\\begin{tabular}{lcccccc}\n               & \\textbf{coef} & \\textbf{std err} & \\textbf{t} & \\textbf{P$> |$t$|$} & \\textbf{[0.025} & \\textbf{0.975]}  \\\\\n\\midrule\n\\textbf{const} &       6.9487  &        0.385     &    18.068  &         0.000        &        6.188    &        7.709     \\\\\n\\textbf{TV}    &       0.0545  &        0.002     &    24.722  &         0.000        &        0.050    &        0.059     \\\\\n\\bottomrule\n\\end{tabular}\n\\begin{tabular}{lclc}\n\\textbf{Omnibus:}       &  0.027 & \\textbf{  Durbin-Watson:     } &    2.196  \\\\\n\\textbf{Prob(Omnibus):} &  0.987 & \\textbf{  Jarque-Bera (JB):  } &    0.150  \\\\\n\\textbf{Skew:}          & -0.006 & \\textbf{  Prob(JB):          } &    0.928  \\\\\n\\textbf{Kurtosis:}      &  2.840 & \\textbf{  Cond. No.          } &     328.  \\\\\n\\bottomrule\n\\end{tabular}\n%\\caption{OLS Regression Results}\n\\end{center}\n\nNotes: \\newline\n [1] Standard Errors assume that the covariance matrix of the errors is correctly specified."
     },
     "execution_count": 17,
     "metadata": {},
     "output_type": "execute_result"
    }
   ],
   "execution_count": 17
  },
  {
   "cell_type": "markdown",
   "id": "b3ee7fba",
   "metadata": {},
   "source": [
    "# D) Summary Analysis of Trained Model\n",
    "So, the statistics we are mainly concerned with to determine whether the model is viable or not are:\n",
    "\n",
    "1. The coefficients and its p-value(significance) \n",
    "2. R-squared value \n",
    "3. F-statistic and its significance\n",
    "\n",
    "---------------------\n",
    "1. The p values in regression help determine whether the relationships that you observe in your sample also exist in the larger population. The linear regression p value for each independent variable tests the null hypothesis that the variable has no correlation with the dependent variable.\n",
    "\n",
    "1. The coefficient for TV is 0.054, and its corresponding p-value is very low, almost 0. That means the coefficient is statistically significant.\n",
    "We have to make sure that the p-value should always be less for the coefficient to be significant\n",
    "\n",
    "\n",
    "--------------------\n",
    "2. R-Squared (R² or the coefficient of determination) is a statistical measure in a regression model that determines the proportion of variance in the dependent variable that can be explained by the independent variable. In other words, r-squared shows how well the data fit the regression model (the goodness of fit).\n",
    "\n",
    "2. R-squared value is 0.816, which means that 81.6% of the Sales variance can be explained by the TV column using this line.\n",
    "\n",
    "-------------------\n",
    "3. f-statistics is a statistic used to test the significance of regression coefficients in linear regression models. f-statistics can be calculated as MSR/MSE where MSR represents the mean sum of squares regression and MSE represents the mean sum of squares error.\n",
    "\n",
    "3. Prob F-statistic has a very low p-value, practically zero, which gives us that the model fit is statistically significant.\n",
    "\n",
    "Since the fit is significant, let’s go ahead and visualize how well the straight-line fits the scatter plot between TV and Sales columns.\n",
    "\n",
    "From the parameters, we got the values of the intercept and the slope for the straight line. The equation of the line is,\n",
    "\n",
    "Sales =  0.054 * TV + 6.948  (y = mX + b)"
   ]
  },
  {
   "cell_type": "code",
   "id": "52e95fe5",
   "metadata": {
    "scrolled": true,
    "ExecuteTime": {
     "end_time": "2024-09-13T03:41:26.077348Z",
     "start_time": "2024-09-13T03:41:26.019389Z"
    }
   },
   "source": [
    "# Visualizing the regression line\n",
    "plt.scatter(X_train, y_train)\n",
    "plt.plot(X_train, 6.948 + 0.054*X_train, 'r')\n",
    "plt.show()"
   ],
   "outputs": [
    {
     "data": {
      "text/plain": [
       "<Figure size 640x480 with 1 Axes>"
      ],
      "image/png": "[encoded data removed]"
     },
     "metadata": {},
     "output_type": "display_data"
    }
   ],
   "execution_count": 18
  },
  {
   "cell_type": "markdown",
   "id": "9de2d1b8",
   "metadata": {},
   "source": [
    "Training Model of Regression is Built\n",
    "This is how we build a simple linear regression model using training data. Now before evaluating the model on test data, we have to perform residual analysis."
   ]
  },
  {
   "cell_type": "markdown",
   "id": "71d51af7",
   "metadata": {},
   "source": [
    "# 4 Residual Analysis\n",
    "One of the major assumptions of the linear regression model is the error terms are normally distributed.\n",
    "\n",
    "Error = Actual y value - y predicted value\n",
    "\n",
    "A residual is a measure of how far away a point is vertically from the regression line. Simply, it is the error between a predicted value and the observed actual value.\n",
    "\n",
    "Now from the dataset, We have to predict the y value from the training dataset of X using the predict attribute. After that, we’ll create the error terms(Residuals) from the predicted data."
   ]
  },
  {
   "cell_type": "code",
   "id": "3ebffd19",
   "metadata": {
    "ExecuteTime": {
     "end_time": "2024-09-13T03:41:27.487790Z",
     "start_time": "2024-09-13T03:41:27.484250Z"
    }
   },
   "source": [
    "# Predicting y_value using training dataset of X\n",
    "y_train_pred = lr.predict(X_train_sm)\n",
    "\n",
    "# Creating residuals from the y_train dataset and predicted y_data\n",
    "res = (y_train - y_train_pred)"
   ],
   "outputs": [],
   "execution_count": 19
  },
  {
   "cell_type": "code",
   "id": "233d6884",
   "metadata": {
    "ExecuteTime": {
     "end_time": "2024-09-13T03:41:27.854163Z",
     "start_time": "2024-09-13T03:41:27.768916Z"
    }
   },
   "source": [
    "# Now, let’s plot the histogram of the residuals and see whether it looks like normal distribution or not.\n",
    "\n",
    "# Plotting the histogram using the residual values\n",
    "fig = plt.figure()\n",
    "sns.distplot(res, bins = 15)\n",
    "plt.title('Error Terms', fontsize = 15)\n",
    "plt.xlabel('y_train - y_train_pred', fontsize = 15)\n",
    "plt.show()"
   ],
   "outputs": [
    {
     "name": "stderr",
     "output_type": "stream",
     "text": [
      "/var/folders/16/zl7d3r5d0bn7chmwxr_cr8tm0000gn/T/ipykernel_6984/265954508.py:5: UserWarning: \n",
      "\n",
      "`distplot` is a deprecated function and will be removed in seaborn v0.14.0.\n",
      "\n",
      "Please adapt your code to use either `displot` (a figure-level function with\n",
      "similar flexibility) or `histplot` (an axes-level function for histograms).\n",
      "\n",
      "For a guide to updating your code to use the new functions, please see\n",
      "https://gist.github.com/mwaskom/de44147ed2974457ad6372750bbe5751\n",
      "\n",
      "  sns.distplot(res, bins = 15)\n"
     ]
    },
    {
     "data": {
      "text/plain": [
       "<Figure size 640x480 with 1 Axes>"
      ],
      "image/png": "[encoded data removed]"
     },
     "metadata": {},
     "output_type": "display_data"
    }
   ],
   "execution_count": 20
  },
  {
   "cell_type": "code",
   "id": "22a723b6",
   "metadata": {
    "ExecuteTime": {
     "end_time": "2024-09-13T03:41:28.029842Z",
     "start_time": "2024-09-13T03:41:27.971079Z"
    }
   },
   "source": [
    "# As we can see, the residuals are following the normal distribution graph with a mean 0.\n",
    "# Now, make sure that the residuals are not following any specific pattern.\n",
    "\n",
    "# Looking for any patterns in the residuals\n",
    "plt.scatter(X_train,res)\n",
    "plt.show()\n"
   ],
   "outputs": [
    {
     "data": {
      "text/plain": [
       "<Figure size 640x480 with 1 Axes>"
      ],
      "image/png": "[encoded data removed]"
     },
     "metadata": {},
     "output_type": "display_data"
    }
   ],
   "execution_count": 21
  },
  {
   "cell_type": "markdown",
   "id": "770f6c25",
   "metadata": {},
   "source": [
    "Since the Residuals follow a normal distribution and do not follow any specific pattern, we can use the linear regression model we have built to evaluate test data."
   ]
  },
  {
   "cell_type": "markdown",
   "id": "46dd2638",
   "metadata": {},
   "source": [
    "# 5 Test/Evaluate the SLR Model/Predictions on the Test data\n",
    "\n",
    "Now that we have fitted the regression line on our train dataset, we can make some predictions to the test data. \n",
    "Similar to the training dataset, we have to add_constant to the test data and predict the y values using the predict attribute present in the statsmodel."
   ]
  },
  {
   "cell_type": "code",
   "id": "2477bf1e",
   "metadata": {
    "ExecuteTime": {
     "end_time": "2024-09-13T03:41:29.126593Z",
     "start_time": "2024-09-13T03:41:29.122443Z"
    }
   },
   "source": [
    "# Adding a constant to X_test\n",
    "X_test_sm = sm.add_constant(X_test)\n",
    "\n",
    "# Predicting the y values corresponding to X_test_sm\n",
    "y_test_pred = lr.predict(X_test_sm)\n",
    "\n",
    "# Printing the predicted values\n",
    "y_test_pred"
   ],
   "outputs": [
    {
     "data": {
      "text/plain": [
       "126     7.374140\n",
       "104    19.941482\n",
       "99     14.323269\n",
       "92     18.823294\n",
       "111    20.132392\n",
       "167    18.228745\n",
       "116    14.541452\n",
       "96     17.726924\n",
       "52     18.752384\n",
       "69     18.774202\n",
       "164    13.341445\n",
       "124    19.466933\n",
       "182    10.014155\n",
       "154    17.192376\n",
       "125    11.705073\n",
       "196    12.086893\n",
       "194    15.114182\n",
       "177    16.232370\n",
       "163    15.866914\n",
       "31     13.106899\n",
       "11     18.659656\n",
       "73     14.006904\n",
       "15     17.606923\n",
       "41     16.603281\n",
       "97     17.034193\n",
       "128    18.965113\n",
       "133    18.937840\n",
       "82     11.055978\n",
       "139    17.034193\n",
       "123    13.663265\n",
       "83     10.679613\n",
       "65     10.712340\n",
       "151    13.548719\n",
       "162    17.225103\n",
       "170     9.675971\n",
       "77     13.521446\n",
       "32     12.250530\n",
       "173    16.134188\n",
       "174    19.079659\n",
       "85     17.486923\n",
       "168    18.697838\n",
       "112    16.532372\n",
       "171    15.921460\n",
       "181    18.866930\n",
       "7      13.505083\n",
       "46     11.841437\n",
       "75      7.870506\n",
       "28     20.519667\n",
       "29     10.799613\n",
       "195     9.032331\n",
       "40     17.994198\n",
       "153    16.292371\n",
       "115    11.045069\n",
       "64     14.099631\n",
       "59     18.441473\n",
       "1       9.375969\n",
       "192     7.886870\n",
       "136     8.345054\n",
       "152    17.726924\n",
       "161    11.623254\n",
       "dtype: float64"
      ]
     },
     "execution_count": 22,
     "metadata": {},
     "output_type": "execute_result"
    }
   ],
   "execution_count": 22
  },
  {
   "cell_type": "code",
   "id": "2ac3726a",
   "metadata": {
    "ExecuteTime": {
     "end_time": "2024-09-13T03:41:29.663929Z",
     "start_time": "2024-09-13T03:41:29.661412Z"
    }
   },
   "source": [
    "# Calculate the R² value for the above-predicted y-values.\n",
    "# We can do that by merely importing the r2_score library from sklearn.metrics package.\n",
    "\n",
    "\n",
    "# Importing r2_square\n",
    "from sklearn.metrics import r2_score\n",
    "\n",
    "# Checking the R-squared value\n",
    "r_squared = r2_score(y_test, y_test_pred)\n",
    "r_squared"
   ],
   "outputs": [
    {
     "data": {
      "text/plain": [
       "0.7921031601245658"
      ]
     },
     "execution_count": 23,
     "metadata": {},
     "output_type": "execute_result"
    }
   ],
   "execution_count": 23
  },
  {
   "cell_type": "markdown",
   "id": "f4c8545d",
   "metadata": {},
   "source": [
    "The R² value by using the above code = 0.792\n",
    "\n",
    "If we can remember from the training data, the R² value = 0.815\n",
    "\n",
    "Since the R² value on test data is within 5% of the R² value on training data, we can conclude that the model is pretty stable. Which means, what the model has learned on the training set can generalize on the unseen test set.\n",
    "\n",
    "Let’s visualize the line on the test data."
   ]
  },
  {
   "cell_type": "code",
   "id": "8c4f842f",
   "metadata": {
    "scrolled": true,
    "ExecuteTime": {
     "end_time": "2024-09-13T03:41:30.512221Z",
     "start_time": "2024-09-13T03:41:30.450206Z"
    }
   },
   "source": [
    "# Visualize the line on the test set\n",
    "plt.scatter(X_test, y_test)\n",
    "plt.plot(X_test, y_test_pred, 'r')\n",
    "plt.show()"
   ],
   "outputs": [
    {
     "data": {
      "text/plain": [
       "<Figure size 640x480 with 1 Axes>"
      ],
      "image/png": "[encoded data removed]"
     },
     "metadata": {},
     "output_type": "display_data"
    }
   ],
   "execution_count": 24
  },
  {
   "cell_type": "markdown",
   "id": "a861e8be",
   "metadata": {},
   "source": [
    "The scatter-plot with best-fit line looks like, This is how we build a linear regression model using the \"statsmodel\" package."
   ]
  },
  {
   "cell_type": "markdown",
   "id": "10e95715",
   "metadata": {},
   "source": [
    "# Method 2: Simple Linear Regression Model Using sklearn package/library\n",
    "\n",
    "Apart from the statsmodel, we can build a linear regression model using sklearn. Using the linear_model library from sklearn, we can make the model.\n",
    "\n",
    "Similar to statsmodel, we’ll split the data into train and test."
   ]
  },
  {
   "cell_type": "code",
   "id": "bac68837",
   "metadata": {
    "ExecuteTime": {
     "end_time": "2024-09-13T03:41:32.540278Z",
     "start_time": "2024-09-13T03:41:32.535948Z"
    }
   },
   "source": [
    "# Splitting the data into Training and Testing Datasets\n",
    "from sklearn.model_selection import train_test_split\n",
    "X_train_lm, X_test_lm, y_train_lm, y_test_lm = train_test_split(X, y, train_size = 0.7, \n",
    "                                                                test_size = 0.3, random_state = 100)"
   ],
   "outputs": [],
   "execution_count": 25
  },
  {
   "cell_type": "code",
   "id": "d3445761",
   "metadata": {
    "ExecuteTime": {
     "end_time": "2024-09-13T03:41:32.846502Z",
     "start_time": "2024-09-13T03:41:32.843716Z"
    }
   },
   "source": [
    "# For simple linear regression, we need to add a column to perform the regression fit properly.\n",
    "\n",
    "# Shape of the train set without adding column\n",
    "X_train_lm.shape\n",
    "\n",
    "# Adding additional column to the train and test data\n",
    "X_train_lm = X_train_lm.values.reshape(-1,1)\n",
    "X_test_lm = X_test_lm.values.reshape(-1,1)\n",
    "\n",
    "print(X_train_lm.shape)\n",
    "print(X_test_lm.shape)"
   ],
   "outputs": [
    {
     "name": "stdout",
     "output_type": "stream",
     "text": [
      "(140, 1)\n",
      "(60, 1)\n"
     ]
    }
   ],
   "execution_count": 26
  },
  {
   "cell_type": "code",
   "id": "09d166ef",
   "metadata": {
    "ExecuteTime": {
     "end_time": "2024-09-13T03:41:33.144353Z",
     "start_time": "2024-09-13T03:41:33.114155Z"
    }
   },
   "source": [
    "# Now, let’s fit the line to the plot importing the LinearRegression library from the sklearn.linear_model.\n",
    "\n",
    "from sklearn.linear_model import LinearRegression\n",
    "\n",
    "# Creating an object of Linear Regression\n",
    "lm = LinearRegression()\n",
    "\n",
    "# Fit the model using .fit() method\n",
    "lm.fit(X_train_lm, y_train_lm)"
   ],
   "outputs": [
    {
     "data": {
      "text/plain": [
       "LinearRegression()"
      ],
      "text/html": [
       "<style>#sk-container-id-1 {color: black;background-color: white;}#sk-container-id-1 pre{padding: 0;}#sk-container-id-1 div.sk-toggleable {background-color: white;}#sk-container-id-1 label.sk-toggleable__label {cursor: pointer;display: block;width: 100%;margin-bottom: 0;padding: 0.3em;box-sizing: border-box;text-align: center;}#sk-container-id-1 label.sk-toggleable__label-arrow:before {content: \"▸\";float: left;margin-right: 0.25em;color: #696969;}#sk-container-id-1 label.sk-toggleable__label-arrow:hover:before {color: black;}#sk-container-id-1 div.sk-estimator:hover label.sk-toggleable__label-arrow:before {color: black;}#sk-container-id-1 div.sk-toggleable__content {max-height: 0;max-width: 0;overflow: hidden;text-align: left;background-color: #f0f8ff;}#sk-container-id-1 div.sk-toggleable__content pre {margin: 0.2em;color: black;border-radius: 0.25em;background-color: #f0f8ff;}#sk-container-id-1 input.sk-toggleable__control:checked~div.sk-toggleable__content {max-height: 200px;max-width: 100%;overflow: auto;}#sk-container-id-1 input.sk-toggleable__control:checked~label.sk-toggleable__label-arrow:before {content: \"▾\";}#sk-container-id-1 div.sk-estimator input.sk-toggleable__control:checked~label.sk-toggleable__label {background-color: #d4ebff;}#sk-container-id-1 div.sk-label input.sk-toggleable__control:checked~label.sk-toggleable__label {background-color: #d4ebff;}#sk-container-id-1 input.sk-hidden--visually {border: 0;clip: rect(1px 1px 1px 1px);clip: rect(1px, 1px, 1px, 1px);height: 1px;margin: -1px;overflow: hidden;padding: 0;position: absolute;width: 1px;}#sk-container-id-1 div.sk-estimator {font-family: monospace;background-color: #f0f8ff;border: 1px dotted black;border-radius: 0.25em;box-sizing: border-box;margin-bottom: 0.5em;}#sk-container-id-1 div.sk-estimator:hover {background-color: #d4ebff;}#sk-container-id-1 div.sk-parallel-item::after {content: \"\";width: 100%;border-bottom: 1px solid gray;flex-grow: 1;}#sk-container-id-1 div.sk-label:hover label.sk-toggleable__label {background-color: #d4ebff;}#sk-container-id-1 div.sk-serial::before {content: \"\";position: absolute;border-left: 1px solid gray;box-sizing: border-box;top: 0;bottom: 0;left: 50%;z-index: 0;}#sk-container-id-1 div.sk-serial {display: flex;flex-direction: column;align-items: center;background-color: white;padding-right: 0.2em;padding-left: 0.2em;position: relative;}#sk-container-id-1 div.sk-item {position: relative;z-index: 1;}#sk-container-id-1 div.sk-parallel {display: flex;align-items: stretch;justify-content: center;background-color: white;position: relative;}#sk-container-id-1 div.sk-item::before, #sk-container-id-1 div.sk-parallel-item::before {content: \"\";position: absolute;border-left: 1px solid gray;box-sizing: border-box;top: 0;bottom: 0;left: 50%;z-index: -1;}#sk-container-id-1 div.sk-parallel-item {display: flex;flex-direction: column;z-index: 1;position: relative;background-color: white;}#sk-container-id-1 div.sk-parallel-item:first-child::after {align-self: flex-end;width: 50%;}#sk-container-id-1 div.sk-parallel-item:last-child::after {align-self: flex-start;width: 50%;}#sk-container-id-1 div.sk-parallel-item:only-child::after {width: 0;}#sk-container-id-1 div.sk-dashed-wrapped {border: 1px dashed gray;margin: 0 0.4em 0.5em 0.4em;box-sizing: border-box;padding-bottom: 0.4em;background-color: white;}#sk-container-id-1 div.sk-label label {font-family: monospace;font-weight: bold;display: inline-block;line-height: 1.2em;}#sk-container-id-1 div.sk-label-container {text-align: center;}#sk-container-id-1 div.sk-container {/* jupyter's `normalize.less` sets `[hidden] { display: none; }` but bootstrap.min.css set `[hidden] { display: none !important; }` so we also need the `!important` here to be able to override the default hidden behavior on the sphinx rendered scikit-learn.org. See: https://github.com/scikit-learn/scikit-learn/issues/21755 */display: inline-block !important;position: relative;}#sk-container-id-1 div.sk-text-repr-fallback {display: none;}</style><div id=\"sk-container-id-1\" class=\"sk-top-container\"><div class=\"sk-text-repr-fallback\"><pre>LinearRegression()</pre><b>In a Jupyter environment, please rerun this cell to show the HTML representation or trust the notebook. <br />On GitHub, the HTML representation is unable to render, please try loading this page with nbviewer.org.</b></div><div class=\"sk-container\" hidden><div class=\"sk-item\"><div class=\"sk-estimator sk-toggleable\"><input class=\"sk-toggleable__control sk-hidden--visually\" id=\"sk-estimator-id-1\" type=\"checkbox\" checked><label for=\"sk-estimator-id-1\" class=\"sk-toggleable__label sk-toggleable__label-arrow\">LinearRegression</label><div class=\"sk-toggleable__content\"><pre>LinearRegression()</pre></div></div></div></div></div>"
      ]
     },
     "execution_count": 27,
     "metadata": {},
     "output_type": "execute_result"
    }
   ],
   "execution_count": 27
  },
  {
   "cell_type": "code",
   "id": "6c24514d",
   "metadata": {
    "ExecuteTime": {
     "end_time": "2024-09-13T03:41:33.314274Z",
     "start_time": "2024-09-13T03:41:33.311757Z"
    }
   },
   "source": [
    "# Now, let’s find the Coefficients (Intercept and Slope) of the model.\n",
    "\n",
    "# Intercept value\n",
    "print(\"Intercept :\",lm.intercept_)\n",
    "\n",
    "# Slope value\n",
    "print('Slope :',lm.coef_)"
   ],
   "outputs": [
    {
     "name": "stdout",
     "output_type": "stream",
     "text": [
      "Intercept : 6.948683200001357\n",
      "Slope : [0.05454575]\n"
     ]
    }
   ],
   "execution_count": 28
  },
  {
   "cell_type": "markdown",
   "id": "dbe4f9a7",
   "metadata": {},
   "source": [
    "The straight-line equation we get for the above values is, Sales =  0.054 * TV + 6.948 \n",
    "If we observe, the equation we got here is the same as the one we got in the statsmodel."
   ]
  },
  {
   "cell_type": "markdown",
   "id": "269d37ab",
   "metadata": {},
   "source": [
    "# 5 Prediction and Evaluation\n",
    "After that, we’ll make the predictions and on the data and evaluate the model by comparing the R² values."
   ]
  },
  {
   "cell_type": "code",
   "id": "b8d21e84",
   "metadata": {
    "ExecuteTime": {
     "end_time": "2024-09-13T03:41:34.318956Z",
     "start_time": "2024-09-13T03:41:34.316514Z"
    }
   },
   "source": [
    "# Prediction of y_value usng Trained LR Model\n",
    "y_train_pred = lm.predict(X_train_lm)\n",
    "y_test_pred = lm.predict(X_test_lm)"
   ],
   "outputs": [],
   "execution_count": 29
  },
  {
   "cell_type": "code",
   "id": "4f41e957",
   "metadata": {
    "ExecuteTime": {
     "end_time": "2024-09-13T03:41:34.605376Z",
     "start_time": "2024-09-13T03:41:34.602353Z"
    }
   },
   "source": [
    "# Comparing the r2 value of both train and test data\n",
    "print(r2_score(y_train,y_train_pred))\n",
    "print(r2_score(y_test,y_test_pred))"
   ],
   "outputs": [
    {
     "name": "stdout",
     "output_type": "stream",
     "text": [
      "0.8157933136480389\n",
      "0.7921031601245662\n"
     ]
    }
   ],
   "execution_count": 30
  },
  {
   "cell_type": "markdown",
   "id": "a1416b04",
   "metadata": {},
   "source": [
    "The R² values of the train and test data are R² train_data = 0.816 R² test_data = 0.792\n",
    "\n",
    "Same as the statesmodel, the R² value on test data is within 5% of the R² value on training data. We can apply the model to the unseen test set in the future.\n",
    "\n",
    "Conclusion As we have seen, we can build a linear regression model using either a statsmodel or sklearn.\n",
    "\n",
    "We have to make sure to follow these five steps to build the simple linear regression model:\n",
    "\n",
    "Reading and understanding the data \n",
    "Visualizing the data \n",
    "Performing simple linear regression \n",
    "Residual analysis \n",
    "Predictions on the test set\n",
    "\n",
    "Next is Multiple Linear Regression (MLR) Model"
   ]
  },
  {
   "cell_type": "markdown",
   "id": "40a608dc-5fea-41ec-8cb1-7345ce4a69b7",
   "metadata": {
    "jp-MarkdownHeadingCollapsed": true
   },
   "source": [
    "# 3 Performing Simple Linear Regression (for \"TV\" Independent Variable because the TV column seems most correlated to Sales Depdent Variable.)\n",
    "Equation of simple linear regression: y = mX + b\n",
    "\n",
    "In our case:\n",
    "y = m * TV + b\n",
    "\n",
    "Perform simple linear regression in four steps:\n",
    "A) Create/Separate X (Independent Variable) and y (Dependent/Target Variable)\n",
    "B) Create/Split Training and Test datasets from the Original Dataset\n",
    "C) Build/Train the SLR Model\n",
    "D) Test/Evaluate the SLR Model"
   ]
  },
  {
   "cell_type": "markdown",
   "id": "8b94467b-75c3-4385-a9c6-0ebad514dc03",
   "metadata": {},
   "source": [
    "# A) Create/Separate X (Independent Variable) and y (Dependent/Target Variable)"
   ]
  },
  {
   "cell_type": "code",
   "id": "6065f36c-88a5-499e-9291-33535c8cfdac",
   "metadata": {
    "ExecuteTime": {
     "end_time": "2024-09-13T03:41:36.018810Z",
     "start_time": "2024-09-13T03:41:36.016792Z"
    }
   },
   "source": [
    "\n",
    "# we will assign our Independent Variable/Column TV as X and our Dependent/Target Variable Sales as y.\n",
    "# X = Independent Variable = TV and y = Dependent/Target Variable = Sales\n",
    "\n",
    "# Creating X and y\n",
    "X = advertising['Radio']\n",
    "y = advertising['Sales']"
   ],
   "outputs": [],
   "execution_count": 31
  },
  {
   "cell_type": "markdown",
   "id": "28fb18f1-5244-420e-95d6-3869192453cd",
   "metadata": {},
   "source": [
    "# B) Create/Split Training and Test Datasets from the Original Dataset"
   ]
  },
  {
   "cell_type": "code",
   "id": "74c1c248-94ab-47ac-a9b8-47bb7d0aeecc",
   "metadata": {
    "ExecuteTime": {
     "end_time": "2024-09-13T03:41:38.054598Z",
     "start_time": "2024-09-13T03:41:38.051254Z"
    }
   },
   "source": [
    "\n",
    "\n",
    "# Splitting the Varaibles as Training and Testing\n",
    "from sklearn.model_selection import train_test_split\n",
    "X_train, X_test, y_train, y_test = train_test_split(X, y, train_size = 0.7, \n",
    "                                                    test_size = 0.3, random_state = 100)"
   ],
   "outputs": [],
   "execution_count": 32
  },
  {
   "cell_type": "code",
   "id": "629db6a4-0371-439f-958b-2fa6c0dcbcfa",
   "metadata": {
    "ExecuteTime": {
     "end_time": "2024-09-13T03:41:38.141249Z",
     "start_time": "2024-09-13T03:41:38.137997Z"
    }
   },
   "source": [
    "# Take a look at the Training Dataset\n",
    "X_train\n",
    "y_train"
   ],
   "outputs": [
    {
     "data": {
      "text/plain": [
       "74     17.0\n",
       "3      16.5\n",
       "185    22.6\n",
       "26     15.0\n",
       "90     14.0\n",
       "       ... \n",
       "87     16.0\n",
       "103    19.7\n",
       "67     13.4\n",
       "24      9.7\n",
       "8       4.8\n",
       "Name: Sales, Length: 140, dtype: float64"
      ]
     },
     "execution_count": 33,
     "metadata": {},
     "output_type": "execute_result"
    }
   ],
   "execution_count": 33
  },
  {
   "cell_type": "code",
   "id": "a5a0d54c-17fb-4882-bc1e-8bddd99754e6",
   "metadata": {
    "ExecuteTime": {
     "end_time": "2024-09-13T03:41:38.541986Z",
     "start_time": "2024-09-13T03:41:38.538502Z"
    }
   },
   "source": [
    "# Take a look at the Test Dataset (which will be used for Evaluation/Prediction)\n",
    "X_test\n",
    "y_test"
   ],
   "outputs": [
    {
     "data": {
      "text/plain": [
       "126     6.6\n",
       "104    20.7\n",
       "99     17.2\n",
       "92     19.4\n",
       "111    21.8\n",
       "167    17.2\n",
       "116    12.2\n",
       "96     16.7\n",
       "52     22.6\n",
       "69     22.3\n",
       "164    11.9\n",
       "124    19.7\n",
       "182     8.7\n",
       "154    20.6\n",
       "125    10.6\n",
       "196    14.0\n",
       "194    17.3\n",
       "177    16.7\n",
       "163    18.0\n",
       "31     11.9\n",
       "11     17.4\n",
       "73     11.0\n",
       "15     22.4\n",
       "41     17.1\n",
       "97     20.5\n",
       "128    24.7\n",
       "133    19.6\n",
       "82     11.3\n",
       "139    20.7\n",
       "123    15.2\n",
       "83     13.6\n",
       "65     11.3\n",
       "151    11.6\n",
       "162    19.9\n",
       "170     8.4\n",
       "77     14.2\n",
       "32     13.2\n",
       "173    16.7\n",
       "174    16.5\n",
       "85     20.2\n",
       "168    17.1\n",
       "112    17.1\n",
       "171    17.5\n",
       "181    17.2\n",
       "7      13.2\n",
       "46     10.6\n",
       "75      8.7\n",
       "28     18.9\n",
       "29     10.5\n",
       "195     7.6\n",
       "40     16.6\n",
       "153    16.0\n",
       "115    12.6\n",
       "64     16.0\n",
       "59     18.4\n",
       "1      10.4\n",
       "192     5.9\n",
       "136     9.5\n",
       "152    16.6\n",
       "161    13.3\n",
       "Name: Sales, dtype: float64"
      ]
     },
     "execution_count": 34,
     "metadata": {},
     "output_type": "execute_result"
    }
   ],
   "execution_count": 34
  },
  {
   "cell_type": "markdown",
   "id": "a8302ac9-c974-4ff3-bb48-c9b7b54af46c",
   "metadata": {},
   "source": [
    "# C) Build/Train the SLR Model\n",
    "Using the following two packages, we can build a Simple Linear Regression (SLR) model:\n",
    "statsmodel \n",
    "sklearn"
   ]
  },
  {
   "cell_type": "code",
   "id": "88fdc296-c548-4204-b007-cb686b7c4f61",
   "metadata": {
    "ExecuteTime": {
     "end_time": "2024-09-13T03:41:38.635932Z",
     "start_time": "2024-09-13T03:41:38.634282Z"
    }
   },
   "source": [
    "# First, we are building SLR Model using statsmodel package\n",
    "\n",
    "# Importing Statsmodels.api library from Stamodel package\n",
    "import statsmodels.api as sm"
   ],
   "outputs": [],
   "execution_count": 35
  },
  {
   "cell_type": "code",
   "id": "007dcfa9-8c4b-4fd5-a030-44c851e95165",
   "metadata": {
    "ExecuteTime": {
     "end_time": "2024-09-13T03:41:38.701969Z",
     "start_time": "2024-09-13T03:41:38.699545Z"
    }
   },
   "source": [
    "# Adding a constant to get an intercept\n",
    "X_train_sm = sm.add_constant(X_train)"
   ],
   "outputs": [],
   "execution_count": 36
  },
  {
   "cell_type": "code",
   "id": "e5fcce3d-68f1-4b27-98df-f96da884acfe",
   "metadata": {
    "ExecuteTime": {
     "end_time": "2024-09-13T03:41:38.750714Z",
     "start_time": "2024-09-13T03:41:38.747004Z"
    }
   },
   "source": [
    "# Once we’ve added constant, we can fit the regression line using OLS (Ordinary Least Square) method present in the statsmodel. \n",
    "# After that, we will see the parameters, i.e., b and m of the straight line.\n",
    "\n",
    "# Fitting the resgression line using 'OLS'\n",
    "lr = sm.OLS(y_train, X_train_sm).fit()\n",
    "\n",
    "# Printing the parameters (Intercept \"b\"=6.94 and Slope \"m\"=0.054 of the line)\n",
    "lr.params"
   ],
   "outputs": [
    {
     "data": {
      "text/plain": [
       "const    12.164674\n",
       "Radio     0.123920\n",
       "dtype: float64"
      ]
     },
     "execution_count": 37,
     "metadata": {},
     "output_type": "execute_result"
    }
   ],
   "execution_count": 37
  },
  {
   "cell_type": "code",
   "id": "da5a247b-c89b-458f-877a-4554724b4d06",
   "metadata": {
    "ExecuteTime": {
     "end_time": "2024-09-13T03:41:38.795570Z",
     "start_time": "2024-09-13T03:41:38.785677Z"
    }
   },
   "source": [
    "# Performing a summary to list out all the different parameters of the regression line fitted\n",
    "#  like R², probability of F-statistic, and p-value.\n",
    "lr.summary()"
   ],
   "outputs": [
    {
     "data": {
      "text/plain": [
       "<class 'statsmodels.iolib.summary.Summary'>\n",
       "\"\"\"\n",
       "                            OLS Regression Results                            \n",
       "==============================================================================\n",
       "Dep. Variable:                  Sales   R-squared:                       0.112\n",
       "Model:                            OLS   Adj. R-squared:                  0.105\n",
       "Method:                 Least Squares   F-statistic:                     17.38\n",
       "Date:                Fri, 13 Sep 2024   Prob (F-statistic):           5.36e-05\n",
       "Time:                        11:41:38   Log-Likelihood:                -431.24\n",
       "No. Observations:                 140   AIC:                             866.5\n",
       "Df Residuals:                     138   BIC:                             872.4\n",
       "Df Model:                           1                                         \n",
       "Covariance Type:            nonrobust                                         \n",
       "==============================================================================\n",
       "                 coef    std err          t      P>|t|      [0.025      0.975]\n",
       "------------------------------------------------------------------------------\n",
       "const         12.1647      0.816     14.914      0.000      10.552      13.777\n",
       "Radio          0.1239      0.030      4.169      0.000       0.065       0.183\n",
       "==============================================================================\n",
       "Omnibus:                        9.946   Durbin-Watson:                   1.859\n",
       "Prob(Omnibus):                  0.007   Jarque-Bera (JB):                6.526\n",
       "Skew:                          -0.384   Prob(JB):                       0.0383\n",
       "Kurtosis:                       2.273   Cond. No.                         50.0\n",
       "==============================================================================\n",
       "\n",
       "Notes:\n",
       "[1] Standard Errors assume that the covariance matrix of the errors is correctly specified.\n",
       "\"\"\""
      ],
      "text/html": [
       "<table class=\"simpletable\">\n",
       "<caption>OLS Regression Results</caption>\n",
       "<tr>\n",
       "  <th>Dep. Variable:</th>          <td>Sales</td>      <th>  R-squared:         </th> <td>   0.112</td>\n",
       "</tr>\n",
       "<tr>\n",
       "  <th>Model:</th>                   <td>OLS</td>       <th>  Adj. R-squared:    </th> <td>   0.105</td>\n",
       "</tr>\n",
       "<tr>\n",
       "  <th>Method:</th>             <td>Least Squares</td>  <th>  F-statistic:       </th> <td>   17.38</td>\n",
       "</tr>\n",
       "<tr>\n",
       "  <th>Date:</th>             <td>Fri, 13 Sep 2024</td> <th>  Prob (F-statistic):</th> <td>5.36e-05</td>\n",
       "</tr>\n",
       "<tr>\n",
       "  <th>Time:</th>                 <td>11:41:38</td>     <th>  Log-Likelihood:    </th> <td> -431.24</td>\n",
       "</tr>\n",
       "<tr>\n",
       "  <th>No. Observations:</th>      <td>   140</td>      <th>  AIC:               </th> <td>   866.5</td>\n",
       "</tr>\n",
       "<tr>\n",
       "  <th>Df Residuals:</th>          <td>   138</td>      <th>  BIC:               </th> <td>   872.4</td>\n",
       "</tr>\n",
       "<tr>\n",
       "  <th>Df Model:</th>              <td>     1</td>      <th>                     </th>     <td> </td>   \n",
       "</tr>\n",
       "<tr>\n",
       "  <th>Covariance Type:</th>      <td>nonrobust</td>    <th>                     </th>     <td> </td>   \n",
       "</tr>\n",
       "</table>\n",
       "<table class=\"simpletable\">\n",
       "<tr>\n",
       "    <td></td>       <th>coef</th>     <th>std err</th>      <th>t</th>      <th>P>|t|</th>  <th>[0.025</th>    <th>0.975]</th>  \n",
       "</tr>\n",
       "<tr>\n",
       "  <th>const</th> <td>   12.1647</td> <td>    0.816</td> <td>   14.914</td> <td> 0.000</td> <td>   10.552</td> <td>   13.777</td>\n",
       "</tr>\n",
       "<tr>\n",
       "  <th>Radio</th> <td>    0.1239</td> <td>    0.030</td> <td>    4.169</td> <td> 0.000</td> <td>    0.065</td> <td>    0.183</td>\n",
       "</tr>\n",
       "</table>\n",
       "<table class=\"simpletable\">\n",
       "<tr>\n",
       "  <th>Omnibus:</th>       <td> 9.946</td> <th>  Durbin-Watson:     </th> <td>   1.859</td>\n",
       "</tr>\n",
       "<tr>\n",
       "  <th>Prob(Omnibus):</th> <td> 0.007</td> <th>  Jarque-Bera (JB):  </th> <td>   6.526</td>\n",
       "</tr>\n",
       "<tr>\n",
       "  <th>Skew:</th>          <td>-0.384</td> <th>  Prob(JB):          </th> <td>  0.0383</td>\n",
       "</tr>\n",
       "<tr>\n",
       "  <th>Kurtosis:</th>      <td> 2.273</td> <th>  Cond. No.          </th> <td>    50.0</td>\n",
       "</tr>\n",
       "</table><br/><br/>Notes:<br/>[1] Standard Errors assume that the covariance matrix of the errors is correctly specified."
      ],
      "text/latex": "\\begin{center}\n\\begin{tabular}{lclc}\n\\toprule\n\\textbf{Dep. Variable:}    &      Sales       & \\textbf{  R-squared:         } &     0.112   \\\\\n\\textbf{Model:}            &       OLS        & \\textbf{  Adj. R-squared:    } &     0.105   \\\\\n\\textbf{Method:}           &  Least Squares   & \\textbf{  F-statistic:       } &     17.38   \\\\\n\\textbf{Date:}             & Fri, 13 Sep 2024 & \\textbf{  Prob (F-statistic):} &  5.36e-05   \\\\\n\\textbf{Time:}             &     11:41:38     & \\textbf{  Log-Likelihood:    } &   -431.24   \\\\\n\\textbf{No. Observations:} &         140      & \\textbf{  AIC:               } &     866.5   \\\\\n\\textbf{Df Residuals:}     &         138      & \\textbf{  BIC:               } &     872.4   \\\\\n\\textbf{Df Model:}         &           1      & \\textbf{                     } &             \\\\\n\\textbf{Covariance Type:}  &    nonrobust     & \\textbf{                     } &             \\\\\n\\bottomrule\n\\end{tabular}\n\\begin{tabular}{lcccccc}\n               & \\textbf{coef} & \\textbf{std err} & \\textbf{t} & \\textbf{P$> |$t$|$} & \\textbf{[0.025} & \\textbf{0.975]}  \\\\\n\\midrule\n\\textbf{const} &      12.1647  &        0.816     &    14.914  &         0.000        &       10.552    &       13.777     \\\\\n\\textbf{Radio} &       0.1239  &        0.030     &     4.169  &         0.000        &        0.065    &        0.183     \\\\\n\\bottomrule\n\\end{tabular}\n\\begin{tabular}{lclc}\n\\textbf{Omnibus:}       &  9.946 & \\textbf{  Durbin-Watson:     } &    1.859  \\\\\n\\textbf{Prob(Omnibus):} &  0.007 & \\textbf{  Jarque-Bera (JB):  } &    6.526  \\\\\n\\textbf{Skew:}          & -0.384 & \\textbf{  Prob(JB):          } &   0.0383  \\\\\n\\textbf{Kurtosis:}      &  2.273 & \\textbf{  Cond. No.          } &     50.0  \\\\\n\\bottomrule\n\\end{tabular}\n%\\caption{OLS Regression Results}\n\\end{center}\n\nNotes: \\newline\n [1] Standard Errors assume that the covariance matrix of the errors is correctly specified."
     },
     "execution_count": 38,
     "metadata": {},
     "output_type": "execute_result"
    }
   ],
   "execution_count": 38
  },
  {
   "cell_type": "markdown",
   "id": "2294d330-a972-4e1a-bb25-8338571a04a7",
   "metadata": {},
   "source": [
    "# D) Summary Analysis of Trained Model\n",
    "So, the statistics we are mainly concerned with to determine whether the model is viable or not are:\n",
    "\n",
    "1. The coefficients and its p-value(significance) \n",
    "2. R-squared value \n",
    "3. F-statistic and its significance\n",
    "\n",
    "---------------------\n",
    "1. The p values in regression help determine whether the relationships that you observe in your sample also exist in the larger population. The linear regression p value for each independent variable tests the null hypothesis that the variable has no correlation with the dependent variable.\n",
    "\n",
    "1. The coefficient for TV is 0.054, and its corresponding p-value is very low, almost 0. That means the coefficient is statistically significant.\n",
    "We have to make sure that the p-value should always be less for the coefficient to be significant\n",
    "\n",
    "\n",
    "--------------------\n",
    "2. R-Squared (R² or the coefficient of determination) is a statistical measure in a regression model that determines the proportion of variance in the dependent variable that can be explained by the independent variable. In other words, r-squared shows how well the data fit the regression model (the goodness of fit).\n",
    "\n",
    "2. R-squared value is 0.816, which means that 81.6% of the Sales variance can be explained by the TV column using this line.\n",
    "\n",
    "-------------------\n",
    "3. f-statistics is a statistic used to test the significance of regression coefficients in linear regression models. f-statistics can be calculated as MSR/MSE where MSR represents the mean sum of squares regression and MSE represents the mean sum of squares error.\n",
    "\n",
    "3. Prob F-statistic has a very low p-value, practically zero, which gives us that the model fit is statistically significant.\n",
    "\n",
    "Since the fit is significant, let’s go ahead and visualize how well the straight-line fits the scatter plot between TV and Sales columns.\n",
    "\n",
    "From the parameters, we got the values of the intercept and the slope for the straight line. The equation of the line is,\n",
    "\n",
    "Sales =  0.054 * TV + 6.948  (y = mX + b)"
   ]
  },
  {
   "cell_type": "code",
   "id": "6b9547cc-888e-4cdf-9d58-6524f2a7d6dc",
   "metadata": {
    "scrolled": true,
    "ExecuteTime": {
     "end_time": "2024-09-13T03:41:38.957301Z",
     "start_time": "2024-09-13T03:41:38.900844Z"
    }
   },
   "source": [
    "# Visualizing the regression line\n",
    "plt.scatter(X_train, y_train)\n",
    "plt.plot(X_train, 12.164 + 0.1239*X_train, 'r')\n",
    "plt.show()"
   ],
   "outputs": [
    {
     "data": {
      "text/plain": [
       "<Figure size 640x480 with 1 Axes>"
      ],
      "image/png": "[encoded data removed]"
     },
     "metadata": {},
     "output_type": "display_data"
    }
   ],
   "execution_count": 39
  },
  {
   "cell_type": "markdown",
   "id": "99ad76ca-304f-48fe-b88b-bbf8b35a60f3",
   "metadata": {},
   "source": [
    "Training Model of Regression is Built\n",
    "This is how we build a simple linear regression model using training data. Now before evaluating the model on test data, we have to perform residual analysis."
   ]
  },
  {
   "cell_type": "markdown",
   "id": "a1dc8c61-134f-4f59-a2d0-0ab597f3c7fe",
   "metadata": {},
   "source": [
    "# 4 Residual Analysis\n",
    "One of the major assumptions of the linear regression model is the error terms are normally distributed.\n",
    "\n",
    "Error = Actual y value - y predicted value\n",
    "\n",
    "A residual is a measure of how far away a point is vertically from the regression line. Simply, it is the error between a predicted value and the observed actual value.\n",
    "\n",
    "Now from the dataset, We have to predict the y value from the training dataset of X using the predict attribute. After that, we’ll create the error terms(Residuals) from the predicted data."
   ]
  },
  {
   "cell_type": "code",
   "id": "b64caf14-6ead-4bdf-a4cb-3c2279c5ca66",
   "metadata": {
    "ExecuteTime": {
     "end_time": "2024-09-13T03:41:39.050561Z",
     "start_time": "2024-09-13T03:41:39.048669Z"
    }
   },
   "source": [
    "# Predicting y_value using training dataset of X\n",
    "y_train_pred = lr.predict(X_train_sm)\n",
    "\n",
    "# Creating residuals from the y_train dataset and predicted y_data\n",
    "res = (y_train - y_train_pred)"
   ],
   "outputs": [],
   "execution_count": 40
  },
  {
   "cell_type": "code",
   "id": "6e0f7bb2-5ab5-4249-a73b-7012c8e09688",
   "metadata": {
    "ExecuteTime": {
     "end_time": "2024-09-13T03:41:39.470089Z",
     "start_time": "2024-09-13T03:41:39.386261Z"
    }
   },
   "source": [
    "# Now, let’s plot the histogram of the residuals and see whether it looks like normal distribution or not.\n",
    "\n",
    "# Plotting the histogram using the residual values\n",
    "fig = plt.figure()\n",
    "sns.distplot(res, bins = 15)\n",
    "plt.title('Error Terms', fontsize = 15)\n",
    "plt.xlabel('y_train - y_train_pred', fontsize = 15)\n",
    "plt.show()"
   ],
   "outputs": [
    {
     "name": "stderr",
     "output_type": "stream",
     "text": [
      "/var/folders/16/zl7d3r5d0bn7chmwxr_cr8tm0000gn/T/ipykernel_6984/265954508.py:5: UserWarning: \n",
      "\n",
      "`distplot` is a deprecated function and will be removed in seaborn v0.14.0.\n",
      "\n",
      "Please adapt your code to use either `displot` (a figure-level function with\n",
      "similar flexibility) or `histplot` (an axes-level function for histograms).\n",
      "\n",
      "For a guide to updating your code to use the new functions, please see\n",
      "https://gist.github.com/mwaskom/de44147ed2974457ad6372750bbe5751\n",
      "\n",
      "  sns.distplot(res, bins = 15)\n"
     ]
    },
    {
     "data": {
      "text/plain": [
       "<Figure size 640x480 with 1 Axes>"
      ],
      "image/png": "[encoded data removed]"
     },
     "metadata": {},
     "output_type": "display_data"
    }
   ],
   "execution_count": 41
  },
  {
   "cell_type": "code",
   "id": "56a50a93-e156-4ac9-b7e2-0793ce4df59d",
   "metadata": {
    "ExecuteTime": {
     "end_time": "2024-09-13T03:41:39.625361Z",
     "start_time": "2024-09-13T03:41:39.569323Z"
    }
   },
   "source": [
    "# As we can see, the residuals are following the normal distribution graph with a mean 0.\n",
    "# Now, make sure that the residuals are not following any specific pattern.\n",
    "\n",
    "# Looking for any patterns in the residuals\n",
    "plt.scatter(X_train,res)\n",
    "plt.show()\n"
   ],
   "outputs": [
    {
     "data": {
      "text/plain": [
       "<Figure size 640x480 with 1 Axes>"
      ],
      "image/png": "[encoded data removed]"
     },
     "metadata": {},
     "output_type": "display_data"
    }
   ],
   "execution_count": 42
  },
  {
   "cell_type": "markdown",
   "id": "9ca87456-03e0-460c-803f-54c7c5f668db",
   "metadata": {},
   "source": [
    "Since the Residuals follow a normal distribution and do not follow any specific pattern, we can use the linear regression model we have built to evaluate test data."
   ]
  },
  {
   "cell_type": "markdown",
   "id": "8a304a72-a5b3-49df-87a1-a7ec082af480",
   "metadata": {},
   "source": [
    "# 5 Test/Evaluate the SLR Model/Predictions on the Test data\n",
    "\n",
    "Now that we have fitted the regression line on our train dataset, we can make some predictions to the test data. \n",
    "Similar to the training dataset, we have to add_constant to the test data and predict the y values using the predict attribute present in the statsmodel."
   ]
  },
  {
   "cell_type": "code",
   "id": "7e064210-dba3-46f6-9f07-aa78152ae0d8",
   "metadata": {
    "ExecuteTime": {
     "end_time": "2024-09-13T03:41:40.089231Z",
     "start_time": "2024-09-13T03:41:40.084996Z"
    }
   },
   "source": [
    "# Adding a constant to X_test\n",
    "X_test_sm = sm.add_constant(X_test)\n",
    "\n",
    "# Predicting the y values corresponding to X_test_sm\n",
    "y_test_pred = lr.predict(X_test_sm)\n",
    "\n",
    "# Printing the predicted values\n",
    "y_test_pred"
   ],
   "outputs": [
    {
     "data": {
      "text/plain": [
       "126    16.985157\n",
       "104    16.415126\n",
       "99     17.332133\n",
       "92     16.315990\n",
       "111    16.873629\n",
       "167    12.809058\n",
       "116    13.936728\n",
       "96     12.598394\n",
       "52     17.332133\n",
       "69     17.604756\n",
       "164    13.986296\n",
       "124    16.167286\n",
       "182    12.871018\n",
       "154    14.779383\n",
       "125    13.626929\n",
       "196    12.771882\n",
       "194    16.576222\n",
       "177    13.131249\n",
       "163    16.724925\n",
       "31     14.320880\n",
       "11     15.138751\n",
       "73     12.871018\n",
       "15     18.075652\n",
       "41     16.303598\n",
       "97     14.766992\n",
       "128    18.236748\n",
       "133    16.315990\n",
       "82     14.680248\n",
       "139    17.604756\n",
       "123    16.452302\n",
       "83     17.679108\n",
       "65     13.317129\n",
       "151    13.205601\n",
       "162    14.407624\n",
       "170    13.602145\n",
       "77     15.696391\n",
       "32     12.350554\n",
       "173    13.044505\n",
       "174    12.586002\n",
       "85     14.444800\n",
       "168    15.089183\n",
       "112    14.073040\n",
       "171    14.754600\n",
       "181    12.833842\n",
       "7      14.593504\n",
       "46     13.391481\n",
       "75     17.579973\n",
       "28     15.522903\n",
       "29     14.147392\n",
       "195    12.623178\n",
       "40     14.928087\n",
       "153    17.084293\n",
       "115    16.501870\n",
       "64     17.468445\n",
       "59     15.820310\n",
       "1      17.034725\n",
       "192    12.672746\n",
       "136    16.997549\n",
       "152    15.052007\n",
       "161    16.601006\n",
       "dtype: float64"
      ]
     },
     "execution_count": 43,
     "metadata": {},
     "output_type": "execute_result"
    }
   ],
   "execution_count": 43
  },
  {
   "cell_type": "code",
   "id": "9daf388d-28b7-461d-a6a7-e0efd9f5540b",
   "metadata": {
    "ExecuteTime": {
     "end_time": "2024-09-13T03:41:40.279683Z",
     "start_time": "2024-09-13T03:41:40.276918Z"
    }
   },
   "source": [
    "# Calculate the R² value for the above-predicted y-values.\n",
    "# We can do that by merely importing the r2_score library from sklearn.metrics package.\n",
    "\n",
    "\n",
    "# Importing r2_square\n",
    "from sklearn.metrics import r2_score\n",
    "\n",
    "# Checking the R-squared value\n",
    "r_squared = r2_score(y_test, y_test_pred)\n",
    "r_squared"
   ],
   "outputs": [
    {
     "data": {
      "text/plain": [
       "0.1541334154583961"
      ]
     },
     "execution_count": 44,
     "metadata": {},
     "output_type": "execute_result"
    }
   ],
   "execution_count": 44
  },
  {
   "cell_type": "markdown",
   "id": "26b90c56-6bd6-453e-91ab-0e53e4532172",
   "metadata": {},
   "source": [
    "The R² value by using the above code = 0.792\n",
    "\n",
    "If we can remember from the training data, the R² value = 0.815\n",
    "\n",
    "Since the R² value on test data is within 5% of the R² value on training data, we can conclude that the model is pretty stable. Which means, what the model has learned on the training set can generalize on the unseen test set.\n",
    "\n",
    "Let’s visualize the line on the test data."
   ]
  },
  {
   "cell_type": "code",
   "id": "4b3e4d57-ea30-4aa8-a8d2-c6d8c23ba231",
   "metadata": {
    "scrolled": true,
    "ExecuteTime": {
     "end_time": "2024-09-13T03:41:40.681854Z",
     "start_time": "2024-09-13T03:41:40.622394Z"
    }
   },
   "source": [
    "# Visualize the line on the test set\n",
    "plt.scatter(X_test, y_test)\n",
    "plt.plot(X_test, y_test_pred, 'r')\n",
    "plt.show()"
   ],
   "outputs": [
    {
     "data": {
      "text/plain": [
       "<Figure size 640x480 with 1 Axes>"
      ],
      "image/png": "[encoded data removed]"
     },
     "metadata": {},
     "output_type": "display_data"
    }
   ],
   "execution_count": 45
  },
  {
   "cell_type": "markdown",
   "id": "ddf7b856-213d-4941-8cf2-84e6146684e2",
   "metadata": {},
   "source": [
    "The scatter-plot with best-fit line looks like, This is how we build a linear regression model using the \"statsmodel\" package."
   ]
  },
  {
   "cell_type": "markdown",
   "id": "17ee62ec-2658-475e-b148-060cf8b312fd",
   "metadata": {},
   "source": [
    "# Method 2: Simple Linear Regression Model Using sklearn package/library\n",
    "\n",
    "Apart from the statsmodel, we can build a linear regression model using sklearn. Using the linear_model library from sklearn, we can make the model.\n",
    "\n",
    "Similar to statsmodel, we’ll split the data into train and test."
   ]
  },
  {
   "cell_type": "code",
   "id": "b62a1b76-86e5-42d0-b527-e786b379bd55",
   "metadata": {
    "ExecuteTime": {
     "end_time": "2024-09-13T03:41:41.119079Z",
     "start_time": "2024-09-13T03:41:41.116481Z"
    }
   },
   "source": [
    "# Splitting the data into Training and Testing Datasets\n",
    "from sklearn.model_selection import train_test_split\n",
    "X_train_lm, X_test_lm, y_train_lm, y_test_lm = train_test_split(X, y, train_size = 0.7, \n",
    "                                                                test_size = 0.3, random_state = 100)"
   ],
   "outputs": [],
   "execution_count": 46
  },
  {
   "cell_type": "code",
   "id": "5a1f1eb2-5926-426d-a59d-c1c41d3ae160",
   "metadata": {
    "ExecuteTime": {
     "end_time": "2024-09-13T03:41:41.297678Z",
     "start_time": "2024-09-13T03:41:41.295299Z"
    }
   },
   "source": [
    "# For simple linear regression, we need to add a column to perform the regression fit properly.\n",
    "\n",
    "# Shape of the train set without adding column\n",
    "X_train_lm.shape\n",
    "\n",
    "# Adding additional column to the train and test data\n",
    "X_train_lm = X_train_lm.values.reshape(-1,1)\n",
    "X_test_lm = X_test_lm.values.reshape(-1,1)\n",
    "\n",
    "print(X_train_lm.shape)\n",
    "print(X_test_lm.shape)"
   ],
   "outputs": [
    {
     "name": "stdout",
     "output_type": "stream",
     "text": [
      "(140, 1)\n",
      "(60, 1)\n"
     ]
    }
   ],
   "execution_count": 47
  },
  {
   "cell_type": "code",
   "id": "dc606e4b-7bb2-49e0-b5de-fdffe80b29ca",
   "metadata": {
    "ExecuteTime": {
     "end_time": "2024-09-13T03:41:41.583047Z",
     "start_time": "2024-09-13T03:41:41.578812Z"
    }
   },
   "source": [
    "# Now, let’s fit the line to the plot importing the LinearRegression library from the sklearn.linear_model.\n",
    "\n",
    "from sklearn.linear_model import LinearRegression\n",
    "\n",
    "# Creating an object of Linear Regression\n",
    "lm = LinearRegression()\n",
    "\n",
    "# Fit the model using .fit() method\n",
    "lm.fit(X_train_lm, y_train_lm)"
   ],
   "outputs": [
    {
     "data": {
      "text/plain": [
       "LinearRegression()"
      ],
      "text/html": [
       "<style>#sk-container-id-2 {color: black;background-color: white;}#sk-container-id-2 pre{padding: 0;}#sk-container-id-2 div.sk-toggleable {background-color: white;}#sk-container-id-2 label.sk-toggleable__label {cursor: pointer;display: block;width: 100%;margin-bottom: 0;padding: 0.3em;box-sizing: border-box;text-align: center;}#sk-container-id-2 label.sk-toggleable__label-arrow:before {content: \"▸\";float: left;margin-right: 0.25em;color: #696969;}#sk-container-id-2 label.sk-toggleable__label-arrow:hover:before {color: black;}#sk-container-id-2 div.sk-estimator:hover label.sk-toggleable__label-arrow:before {color: black;}#sk-container-id-2 div.sk-toggleable__content {max-height: 0;max-width: 0;overflow: hidden;text-align: left;background-color: #f0f8ff;}#sk-container-id-2 div.sk-toggleable__content pre {margin: 0.2em;color: black;border-radius: 0.25em;background-color: #f0f8ff;}#sk-container-id-2 input.sk-toggleable__control:checked~div.sk-toggleable__content {max-height: 200px;max-width: 100%;overflow: auto;}#sk-container-id-2 input.sk-toggleable__control:checked~label.sk-toggleable__label-arrow:before {content: \"▾\";}#sk-container-id-2 div.sk-estimator input.sk-toggleable__control:checked~label.sk-toggleable__label {background-color: #d4ebff;}#sk-container-id-2 div.sk-label input.sk-toggleable__control:checked~label.sk-toggleable__label {background-color: #d4ebff;}#sk-container-id-2 input.sk-hidden--visually {border: 0;clip: rect(1px 1px 1px 1px);clip: rect(1px, 1px, 1px, 1px);height: 1px;margin: -1px;overflow: hidden;padding: 0;position: absolute;width: 1px;}#sk-container-id-2 div.sk-estimator {font-family: monospace;background-color: #f0f8ff;border: 1px dotted black;border-radius: 0.25em;box-sizing: border-box;margin-bottom: 0.5em;}#sk-container-id-2 div.sk-estimator:hover {background-color: #d4ebff;}#sk-container-id-2 div.sk-parallel-item::after {content: \"\";width: 100%;border-bottom: 1px solid gray;flex-grow: 1;}#sk-container-id-2 div.sk-label:hover label.sk-toggleable__label {background-color: #d4ebff;}#sk-container-id-2 div.sk-serial::before {content: \"\";position: absolute;border-left: 1px solid gray;box-sizing: border-box;top: 0;bottom: 0;left: 50%;z-index: 0;}#sk-container-id-2 div.sk-serial {display: flex;flex-direction: column;align-items: center;background-color: white;padding-right: 0.2em;padding-left: 0.2em;position: relative;}#sk-container-id-2 div.sk-item {position: relative;z-index: 1;}#sk-container-id-2 div.sk-parallel {display: flex;align-items: stretch;justify-content: center;background-color: white;position: relative;}#sk-container-id-2 div.sk-item::before, #sk-container-id-2 div.sk-parallel-item::before {content: \"\";position: absolute;border-left: 1px solid gray;box-sizing: border-box;top: 0;bottom: 0;left: 50%;z-index: -1;}#sk-container-id-2 div.sk-parallel-item {display: flex;flex-direction: column;z-index: 1;position: relative;background-color: white;}#sk-container-id-2 div.sk-parallel-item:first-child::after {align-self: flex-end;width: 50%;}#sk-container-id-2 div.sk-parallel-item:last-child::after {align-self: flex-start;width: 50%;}#sk-container-id-2 div.sk-parallel-item:only-child::after {width: 0;}#sk-container-id-2 div.sk-dashed-wrapped {border: 1px dashed gray;margin: 0 0.4em 0.5em 0.4em;box-sizing: border-box;padding-bottom: 0.4em;background-color: white;}#sk-container-id-2 div.sk-label label {font-family: monospace;font-weight: bold;display: inline-block;line-height: 1.2em;}#sk-container-id-2 div.sk-label-container {text-align: center;}#sk-container-id-2 div.sk-container {/* jupyter's `normalize.less` sets `[hidden] { display: none; }` but bootstrap.min.css set `[hidden] { display: none !important; }` so we also need the `!important` here to be able to override the default hidden behavior on the sphinx rendered scikit-learn.org. See: https://github.com/scikit-learn/scikit-learn/issues/21755 */display: inline-block !important;position: relative;}#sk-container-id-2 div.sk-text-repr-fallback {display: none;}</style><div id=\"sk-container-id-2\" class=\"sk-top-container\"><div class=\"sk-text-repr-fallback\"><pre>LinearRegression()</pre><b>In a Jupyter environment, please rerun this cell to show the HTML representation or trust the notebook. <br />On GitHub, the HTML representation is unable to render, please try loading this page with nbviewer.org.</b></div><div class=\"sk-container\" hidden><div class=\"sk-item\"><div class=\"sk-estimator sk-toggleable\"><input class=\"sk-toggleable__control sk-hidden--visually\" id=\"sk-estimator-id-2\" type=\"checkbox\" checked><label for=\"sk-estimator-id-2\" class=\"sk-toggleable__label sk-toggleable__label-arrow\">LinearRegression</label><div class=\"sk-toggleable__content\"><pre>LinearRegression()</pre></div></div></div></div></div>"
      ]
     },
     "execution_count": 48,
     "metadata": {},
     "output_type": "execute_result"
    }
   ],
   "execution_count": 48
  },
  {
   "cell_type": "code",
   "id": "8020efb2-af73-41cf-a33a-92a8b3cd5585",
   "metadata": {
    "ExecuteTime": {
     "end_time": "2024-09-13T03:41:41.725861Z",
     "start_time": "2024-09-13T03:41:41.723680Z"
    }
   },
   "source": [
    "# Now, let’s find the Coefficients (Intercept and Slope) of the model.\n",
    "\n",
    "# Intercept value\n",
    "print(\"Intercept :\",lm.intercept_)\n",
    "\n",
    "# Slope value\n",
    "print('Slope :',lm.coef_)"
   ],
   "outputs": [
    {
     "name": "stdout",
     "output_type": "stream",
     "text": [
      "Intercept : 12.164674278168622\n",
      "Slope : [0.12391987]\n"
     ]
    }
   ],
   "execution_count": 49
  },
  {
   "cell_type": "markdown",
   "id": "b9bb50f0-06bc-4d7e-b408-ef002701e689",
   "metadata": {},
   "source": [
    "The straight-line equation we get for the above values is, Sales =  0.054 * TV + 6.948 \n",
    "If we observe, the equation we got here is the same as the one we got in the statsmodel."
   ]
  },
  {
   "cell_type": "markdown",
   "id": "64e369e8-67a9-48c6-8964-63acec7d0982",
   "metadata": {},
   "source": [
    "# 5 Prediction and Evaluation\n",
    "After that, we’ll make the predictions and on the data and evaluate the model by comparing the R² values."
   ]
  },
  {
   "cell_type": "code",
   "id": "c5c48b21-d08a-4f8e-aab1-1dd8c444bc08",
   "metadata": {
    "ExecuteTime": {
     "end_time": "2024-09-13T03:41:42.384294Z",
     "start_time": "2024-09-13T03:41:42.382453Z"
    }
   },
   "source": [
    "# Prediction of y_value usng Trained LR Model\n",
    "y_train_pred = lm.predict(X_train_lm)\n",
    "y_test_pred = lm.predict(X_test_lm)"
   ],
   "outputs": [],
   "execution_count": 50
  },
  {
   "cell_type": "code",
   "id": "f907dab5-3401-4a7f-8a3b-d90be49fcbc5",
   "metadata": {
    "ExecuteTime": {
     "end_time": "2024-09-13T03:41:42.595719Z",
     "start_time": "2024-09-13T03:41:42.593018Z"
    }
   },
   "source": [
    "# Comparing the r2 value of both train and test data\n",
    "print(r2_score(y_train,y_train_pred))\n",
    "print(r2_score(y_test,y_test_pred))"
   ],
   "outputs": [
    {
     "name": "stdout",
     "output_type": "stream",
     "text": [
      "0.11188119510677019\n",
      "0.15413341545839598\n"
     ]
    }
   ],
   "execution_count": 51
  },
  {
   "cell_type": "markdown",
   "id": "580a16ef-ecde-488e-bf88-96d6d0ba2723",
   "metadata": {},
   "source": [
    "The R² values of the train and test data are R² train_data = 0.816 R² test_data = 0.792\n",
    "\n",
    "Same as the statesmodel, the R² value on test data is within 5% of the R² value on training data. We can apply the model to the unseen test set in the future.\n",
    "\n",
    "Conclusion As we have seen, we can build a linear regression model using either a statsmodel or sklearn.\n",
    "\n",
    "We have to make sure to follow these five steps to build the simple linear regression model:\n",
    "\n",
    "Reading and understanding the data \n",
    "Visualizing the data \n",
    "Performing simple linear regression \n",
    "Residual analysis \n",
    "Predictions on the test set\n",
    "\n",
    "Next is Multiple Linear Regression (MLR) Model"
   ]
  },
  {
   "cell_type": "markdown",
   "id": "be20d53a-59c5-409a-92b3-f3d42b04972e",
   "metadata": {
    "jp-MarkdownHeadingCollapsed": true
   },
   "source": [
    "# 3 Performing Simple Linear Regression (for \"TV\" Independent Variable because the TV column seems most correlated to Sales Depdent Variable.)\n",
    "Equation of simple linear regression: y = mX + b\n",
    "\n",
    "In our case:\n",
    "y = m * TV + b\n",
    "\n",
    "Perform simple linear regression in four steps:\n",
    "A) Create/Separate X (Independent Variable) and y (Dependent/Target Variable)\n",
    "B) Create/Split Training and Test datasets from the Original Dataset\n",
    "C) Build/Train the SLR Model\n",
    "D) Test/Evaluate the SLR Model"
   ]
  },
  {
   "cell_type": "markdown",
   "id": "18b55040-884d-468c-b57b-c7535ee36499",
   "metadata": {},
   "source": [
    "# A) Create/Separate X (Independent Variable) and y (Dependent/Target Variable)"
   ]
  },
  {
   "cell_type": "code",
   "id": "5e0fc291-f08b-4bf6-87ca-304bef775549",
   "metadata": {
    "ExecuteTime": {
     "end_time": "2024-09-13T03:41:43.640248Z",
     "start_time": "2024-09-13T03:41:43.638422Z"
    }
   },
   "source": [
    "\n",
    "# we will assign our Independent Variable/Column TV as X and our Dependent/Target Variable Sales as y.\n",
    "# X = Independent Variable = TV and y = Dependent/Target Variable = Sales\n",
    "\n",
    "# Creating X and y\n",
    "X = advertising['Newspaper']\n",
    "y = advertising['Sales']"
   ],
   "outputs": [],
   "execution_count": 52
  },
  {
   "cell_type": "markdown",
   "id": "804f6964-ee69-4dcf-8a64-adbc6d733741",
   "metadata": {},
   "source": [
    "# B) Create/Split Training and Test Datasets from the Original Dataset"
   ]
  },
  {
   "cell_type": "code",
   "id": "a5aac32a-97b1-4a62-a5b5-25d9e4a2fd4a",
   "metadata": {
    "ExecuteTime": {
     "end_time": "2024-09-13T03:41:44.133851Z",
     "start_time": "2024-09-13T03:41:44.129859Z"
    }
   },
   "source": [
    "\n",
    "\n",
    "# Splitting the Varaibles as Training and Testing\n",
    "from sklearn.model_selection import train_test_split\n",
    "X_train, X_test, y_train, y_test = train_test_split(X, y, train_size = 0.7, \n",
    "                                                    test_size = 0.3, random_state = 100)"
   ],
   "outputs": [],
   "execution_count": 53
  },
  {
   "cell_type": "code",
   "id": "79b39f86-ee69-4f8c-a8b7-587cb9fb87bb",
   "metadata": {
    "ExecuteTime": {
     "end_time": "2024-09-13T03:41:44.209904Z",
     "start_time": "2024-09-13T03:41:44.207239Z"
    }
   },
   "source": [
    "# Take a look at the Training Dataset\n",
    "X_train\n",
    "y_train"
   ],
   "outputs": [
    {
     "data": {
      "text/plain": [
       "74     17.0\n",
       "3      16.5\n",
       "185    22.6\n",
       "26     15.0\n",
       "90     14.0\n",
       "       ... \n",
       "87     16.0\n",
       "103    19.7\n",
       "67     13.4\n",
       "24      9.7\n",
       "8       4.8\n",
       "Name: Sales, Length: 140, dtype: float64"
      ]
     },
     "execution_count": 54,
     "metadata": {},
     "output_type": "execute_result"
    }
   ],
   "execution_count": 54
  },
  {
   "cell_type": "code",
   "id": "a6d8ebcc-675e-45ab-9046-9d86dac3b517",
   "metadata": {
    "ExecuteTime": {
     "end_time": "2024-09-13T03:41:44.354104Z",
     "start_time": "2024-09-13T03:41:44.350844Z"
    }
   },
   "source": [
    "# Take a look at the Test Dataset (which will be used for Evaluation/Prediction)\n",
    "X_test\n",
    "y_test"
   ],
   "outputs": [
    {
     "data": {
      "text/plain": [
       "126     6.6\n",
       "104    20.7\n",
       "99     17.2\n",
       "92     19.4\n",
       "111    21.8\n",
       "167    17.2\n",
       "116    12.2\n",
       "96     16.7\n",
       "52     22.6\n",
       "69     22.3\n",
       "164    11.9\n",
       "124    19.7\n",
       "182     8.7\n",
       "154    20.6\n",
       "125    10.6\n",
       "196    14.0\n",
       "194    17.3\n",
       "177    16.7\n",
       "163    18.0\n",
       "31     11.9\n",
       "11     17.4\n",
       "73     11.0\n",
       "15     22.4\n",
       "41     17.1\n",
       "97     20.5\n",
       "128    24.7\n",
       "133    19.6\n",
       "82     11.3\n",
       "139    20.7\n",
       "123    15.2\n",
       "83     13.6\n",
       "65     11.3\n",
       "151    11.6\n",
       "162    19.9\n",
       "170     8.4\n",
       "77     14.2\n",
       "32     13.2\n",
       "173    16.7\n",
       "174    16.5\n",
       "85     20.2\n",
       "168    17.1\n",
       "112    17.1\n",
       "171    17.5\n",
       "181    17.2\n",
       "7      13.2\n",
       "46     10.6\n",
       "75      8.7\n",
       "28     18.9\n",
       "29     10.5\n",
       "195     7.6\n",
       "40     16.6\n",
       "153    16.0\n",
       "115    12.6\n",
       "64     16.0\n",
       "59     18.4\n",
       "1      10.4\n",
       "192     5.9\n",
       "136     9.5\n",
       "152    16.6\n",
       "161    13.3\n",
       "Name: Sales, dtype: float64"
      ]
     },
     "execution_count": 55,
     "metadata": {},
     "output_type": "execute_result"
    }
   ],
   "execution_count": 55
  },
  {
   "cell_type": "markdown",
   "id": "0a469e32-0165-4733-8c0b-260d30c33a91",
   "metadata": {},
   "source": [
    "# C) Build/Train the SLR Model\n",
    "Using the following two packages, we can build a Simple Linear Regression (SLR) model:\n",
    "statsmodel \n",
    "sklearn"
   ]
  },
  {
   "cell_type": "code",
   "id": "ec2d5d9e-7d5d-4c74-9be3-dcff642e3e99",
   "metadata": {
    "ExecuteTime": {
     "end_time": "2024-09-13T03:41:44.730223Z",
     "start_time": "2024-09-13T03:41:44.728565Z"
    }
   },
   "source": [
    "# First, we are building SLR Model using statsmodel package\n",
    "\n",
    "# Importing Statsmodels.api library from Stamodel package\n",
    "import statsmodels.api as sm"
   ],
   "outputs": [],
   "execution_count": 56
  },
  {
   "cell_type": "code",
   "id": "a284bed2-6158-4821-b311-c2441581a14a",
   "metadata": {
    "ExecuteTime": {
     "end_time": "2024-09-13T03:41:44.998757Z",
     "start_time": "2024-09-13T03:41:44.994957Z"
    }
   },
   "source": [
    "# Adding a constant to get an intercept\n",
    "X_train_sm = sm.add_constant(X_train)"
   ],
   "outputs": [],
   "execution_count": 57
  },
  {
   "cell_type": "code",
   "id": "956a9bd6-d0ae-4d41-9bb5-4b975da7d197",
   "metadata": {
    "ExecuteTime": {
     "end_time": "2024-09-13T03:41:45.200224Z",
     "start_time": "2024-09-13T03:41:45.195891Z"
    }
   },
   "source": [
    "# Once we’ve added constant, we can fit the regression line using OLS (Ordinary Least Square) method present in the statsmodel. \n",
    "# After that, we will see the parameters, i.e., b and m of the straight line.\n",
    "\n",
    "# Fitting the resgression line using 'OLS'\n",
    "lr = sm.OLS(y_train, X_train_sm).fit()\n",
    "\n",
    "# Printing the parameters (Intercept \"b\"=6.94 and Slope \"m\"=0.054 of the line)\n",
    "lr.params"
   ],
   "outputs": [
    {
     "data": {
      "text/plain": [
       "const        13.132714\n",
       "Newspaper     0.059574\n",
       "dtype: float64"
      ]
     },
     "execution_count": 58,
     "metadata": {},
     "output_type": "execute_result"
    }
   ],
   "execution_count": 58
  },
  {
   "cell_type": "code",
   "id": "ec1f53d1-cd40-480e-8987-81bfbbb54985",
   "metadata": {
    "ExecuteTime": {
     "end_time": "2024-09-13T03:41:45.358388Z",
     "start_time": "2024-09-13T03:41:45.348617Z"
    }
   },
   "source": [
    "# Performing a summary to list out all the different parameters of the regression line fitted\n",
    "#  like R², probability of F-statistic, and p-value.\n",
    "lr.summary()"
   ],
   "outputs": [
    {
     "data": {
      "text/plain": [
       "<class 'statsmodels.iolib.summary.Summary'>\n",
       "\"\"\"\n",
       "                            OLS Regression Results                            \n",
       "==============================================================================\n",
       "Dep. Variable:                  Sales   R-squared:                       0.058\n",
       "Model:                            OLS   Adj. R-squared:                  0.051\n",
       "Method:                 Least Squares   F-statistic:                     8.461\n",
       "Date:                Fri, 13 Sep 2024   Prob (F-statistic):            0.00423\n",
       "Time:                        11:41:45   Log-Likelihood:                -435.38\n",
       "No. Observations:                 140   AIC:                             874.8\n",
       "Df Residuals:                     138   BIC:                             880.6\n",
       "Df Model:                           1                                         \n",
       "Covariance Type:            nonrobust                                         \n",
       "==============================================================================\n",
       "                 coef    std err          t      P>|t|      [0.025      0.975]\n",
       "------------------------------------------------------------------------------\n",
       "const         13.1327      0.792     16.574      0.000      11.566      14.699\n",
       "Newspaper      0.0596      0.020      2.909      0.004       0.019       0.100\n",
       "==============================================================================\n",
       "Omnibus:                        9.229   Durbin-Watson:                   1.897\n",
       "Prob(Omnibus):                  0.010   Jarque-Bera (JB):                3.890\n",
       "Skew:                          -0.073   Prob(JB):                        0.143\n",
       "Kurtosis:                       2.196   Cond. No.                         66.4\n",
       "==============================================================================\n",
       "\n",
       "Notes:\n",
       "[1] Standard Errors assume that the covariance matrix of the errors is correctly specified.\n",
       "\"\"\""
      ],
      "text/html": [
       "<table class=\"simpletable\">\n",
       "<caption>OLS Regression Results</caption>\n",
       "<tr>\n",
       "  <th>Dep. Variable:</th>          <td>Sales</td>      <th>  R-squared:         </th> <td>   0.058</td>\n",
       "</tr>\n",
       "<tr>\n",
       "  <th>Model:</th>                   <td>OLS</td>       <th>  Adj. R-squared:    </th> <td>   0.051</td>\n",
       "</tr>\n",
       "<tr>\n",
       "  <th>Method:</th>             <td>Least Squares</td>  <th>  F-statistic:       </th> <td>   8.461</td>\n",
       "</tr>\n",
       "<tr>\n",
       "  <th>Date:</th>             <td>Fri, 13 Sep 2024</td> <th>  Prob (F-statistic):</th>  <td>0.00423</td>\n",
       "</tr>\n",
       "<tr>\n",
       "  <th>Time:</th>                 <td>11:41:45</td>     <th>  Log-Likelihood:    </th> <td> -435.38</td>\n",
       "</tr>\n",
       "<tr>\n",
       "  <th>No. Observations:</th>      <td>   140</td>      <th>  AIC:               </th> <td>   874.8</td>\n",
       "</tr>\n",
       "<tr>\n",
       "  <th>Df Residuals:</th>          <td>   138</td>      <th>  BIC:               </th> <td>   880.6</td>\n",
       "</tr>\n",
       "<tr>\n",
       "  <th>Df Model:</th>              <td>     1</td>      <th>                     </th>     <td> </td>   \n",
       "</tr>\n",
       "<tr>\n",
       "  <th>Covariance Type:</th>      <td>nonrobust</td>    <th>                     </th>     <td> </td>   \n",
       "</tr>\n",
       "</table>\n",
       "<table class=\"simpletable\">\n",
       "<tr>\n",
       "      <td></td>         <th>coef</th>     <th>std err</th>      <th>t</th>      <th>P>|t|</th>  <th>[0.025</th>    <th>0.975]</th>  \n",
       "</tr>\n",
       "<tr>\n",
       "  <th>const</th>     <td>   13.1327</td> <td>    0.792</td> <td>   16.574</td> <td> 0.000</td> <td>   11.566</td> <td>   14.699</td>\n",
       "</tr>\n",
       "<tr>\n",
       "  <th>Newspaper</th> <td>    0.0596</td> <td>    0.020</td> <td>    2.909</td> <td> 0.004</td> <td>    0.019</td> <td>    0.100</td>\n",
       "</tr>\n",
       "</table>\n",
       "<table class=\"simpletable\">\n",
       "<tr>\n",
       "  <th>Omnibus:</th>       <td> 9.229</td> <th>  Durbin-Watson:     </th> <td>   1.897</td>\n",
       "</tr>\n",
       "<tr>\n",
       "  <th>Prob(Omnibus):</th> <td> 0.010</td> <th>  Jarque-Bera (JB):  </th> <td>   3.890</td>\n",
       "</tr>\n",
       "<tr>\n",
       "  <th>Skew:</th>          <td>-0.073</td> <th>  Prob(JB):          </th> <td>   0.143</td>\n",
       "</tr>\n",
       "<tr>\n",
       "  <th>Kurtosis:</th>      <td> 2.196</td> <th>  Cond. No.          </th> <td>    66.4</td>\n",
       "</tr>\n",
       "</table><br/><br/>Notes:<br/>[1] Standard Errors assume that the covariance matrix of the errors is correctly specified."
      ],
      "text/latex": "\\begin{center}\n\\begin{tabular}{lclc}\n\\toprule\n\\textbf{Dep. Variable:}    &      Sales       & \\textbf{  R-squared:         } &     0.058   \\\\\n\\textbf{Model:}            &       OLS        & \\textbf{  Adj. R-squared:    } &     0.051   \\\\\n\\textbf{Method:}           &  Least Squares   & \\textbf{  F-statistic:       } &     8.461   \\\\\n\\textbf{Date:}             & Fri, 13 Sep 2024 & \\textbf{  Prob (F-statistic):} &  0.00423    \\\\\n\\textbf{Time:}             &     11:41:45     & \\textbf{  Log-Likelihood:    } &   -435.38   \\\\\n\\textbf{No. Observations:} &         140      & \\textbf{  AIC:               } &     874.8   \\\\\n\\textbf{Df Residuals:}     &         138      & \\textbf{  BIC:               } &     880.6   \\\\\n\\textbf{Df Model:}         &           1      & \\textbf{                     } &             \\\\\n\\textbf{Covariance Type:}  &    nonrobust     & \\textbf{                     } &             \\\\\n\\bottomrule\n\\end{tabular}\n\\begin{tabular}{lcccccc}\n                   & \\textbf{coef} & \\textbf{std err} & \\textbf{t} & \\textbf{P$> |$t$|$} & \\textbf{[0.025} & \\textbf{0.975]}  \\\\\n\\midrule\n\\textbf{const}     &      13.1327  &        0.792     &    16.574  &         0.000        &       11.566    &       14.699     \\\\\n\\textbf{Newspaper} &       0.0596  &        0.020     &     2.909  &         0.004        &        0.019    &        0.100     \\\\\n\\bottomrule\n\\end{tabular}\n\\begin{tabular}{lclc}\n\\textbf{Omnibus:}       &  9.229 & \\textbf{  Durbin-Watson:     } &    1.897  \\\\\n\\textbf{Prob(Omnibus):} &  0.010 & \\textbf{  Jarque-Bera (JB):  } &    3.890  \\\\\n\\textbf{Skew:}          & -0.073 & \\textbf{  Prob(JB):          } &    0.143  \\\\\n\\textbf{Kurtosis:}      &  2.196 & \\textbf{  Cond. No.          } &     66.4  \\\\\n\\bottomrule\n\\end{tabular}\n%\\caption{OLS Regression Results}\n\\end{center}\n\nNotes: \\newline\n [1] Standard Errors assume that the covariance matrix of the errors is correctly specified."
     },
     "execution_count": 59,
     "metadata": {},
     "output_type": "execute_result"
    }
   ],
   "execution_count": 59
  },
  {
   "cell_type": "markdown",
   "id": "4b4fd2f0-ea71-45f2-a39d-bf5e93294942",
   "metadata": {},
   "source": [
    "# D) Summary Analysis of Trained Model\n",
    "So, the statistics we are mainly concerned with to determine whether the model is viable or not are:\n",
    "\n",
    "1. The coefficients and its p-value(significance) \n",
    "2. R-squared value \n",
    "3. F-statistic and its significance\n",
    "\n",
    "---------------------\n",
    "1. The p values in regression help determine whether the relationships that you observe in your sample also exist in the larger population. The linear regression p value for each independent variable tests the null hypothesis that the variable has no correlation with the dependent variable.\n",
    "\n",
    "1. The coefficient for TV is 0.054, and its corresponding p-value is very low, almost 0. That means the coefficient is statistically significant.\n",
    "We have to make sure that the p-value should always be less for the coefficient to be significant\n",
    "\n",
    "\n",
    "--------------------\n",
    "2. R-Squared (R² or the coefficient of determination) is a statistical measure in a regression model that determines the proportion of variance in the dependent variable that can be explained by the independent variable. In other words, r-squared shows how well the data fit the regression model (the goodness of fit).\n",
    "\n",
    "2. R-squared value is 0.816, which means that 81.6% of the Sales variance can be explained by the TV column using this line.\n",
    "\n",
    "-------------------\n",
    "3. f-statistics is a statistic used to test the significance of regression coefficients in linear regression models. f-statistics can be calculated as MSR/MSE where MSR represents the mean sum of squares regression and MSE represents the mean sum of squares error.\n",
    "\n",
    "3. Prob F-statistic has a very low p-value, practically zero, which gives us that the model fit is statistically significant.\n",
    "\n",
    "Since the fit is significant, let’s go ahead and visualize how well the straight-line fits the scatter plot between TV and Sales columns.\n",
    "\n",
    "From the parameters, we got the values of the intercept and the slope for the straight line. The equation of the line is,\n",
    "\n",
    "Sales =  0.054 * TV + 6.948  (y = mX + b)"
   ]
  },
  {
   "cell_type": "code",
   "id": "0bcd2a77-ce7f-4fe2-9992-5762171dde30",
   "metadata": {
    "scrolled": true,
    "ExecuteTime": {
     "end_time": "2024-09-13T03:41:45.913287Z",
     "start_time": "2024-09-13T03:41:45.854257Z"
    }
   },
   "source": [
    "# Visualizing the regression line\n",
    "plt.scatter(X_train, y_train)\n",
    "plt.plot(X_train, 13.133 + 0.060*X_train, 'r')\n",
    "plt.show()"
   ],
   "outputs": [
    {
     "data": {
      "text/plain": [
       "<Figure size 640x480 with 1 Axes>"
      ],
      "image/png": "[encoded data removed]"
     },
     "metadata": {},
     "output_type": "display_data"
    }
   ],
   "execution_count": 60
  },
  {
   "cell_type": "markdown",
   "id": "ea68136f-b26b-473e-b45f-fe68a1b5467c",
   "metadata": {},
   "source": [
    "Training Model of Regression is Built\n",
    "This is how we build a simple linear regression model using training data. Now before evaluating the model on test data, we have to perform residual analysis."
   ]
  },
  {
   "cell_type": "markdown",
   "id": "ecefbce4-5045-45cc-8601-6164f48322a2",
   "metadata": {},
   "source": [
    "# 4 Residual Analysis\n",
    "One of the major assumptions of the linear regression model is the error terms are normally distributed.\n",
    "\n",
    "Error = Actual y value - y predicted value\n",
    "\n",
    "A residual is a measure of how far away a point is vertically from the regression line. Simply, it is the error between a predicted value and the observed actual value.\n",
    "\n",
    "Now from the dataset, We have to predict the y value from the training dataset of X using the predict attribute. After that, we’ll create the error terms(Residuals) from the predicted data."
   ]
  },
  {
   "cell_type": "code",
   "id": "2143e382-b1f5-44ce-9e03-7e349b8b2f28",
   "metadata": {
    "ExecuteTime": {
     "end_time": "2024-09-13T03:41:46.663300Z",
     "start_time": "2024-09-13T03:41:46.661159Z"
    }
   },
   "source": [
    "# Predicting y_value using training dataset of X\n",
    "y_train_pred = lr.predict(X_train_sm)\n",
    "\n",
    "# Creating residuals from the y_train dataset and predicted y_data\n",
    "res = (y_train - y_train_pred)"
   ],
   "outputs": [],
   "execution_count": 61
  },
  {
   "cell_type": "code",
   "id": "009cfc2d-ef04-484d-aa15-a5f5ed1a5097",
   "metadata": {
    "ExecuteTime": {
     "end_time": "2024-09-13T03:41:47.022829Z",
     "start_time": "2024-09-13T03:41:46.944420Z"
    }
   },
   "source": [
    "# Now, let’s plot the histogram of the residuals and see whether it looks like normal distribution or not.\n",
    "\n",
    "# Plotting the histogram using the residual values\n",
    "fig = plt.figure()\n",
    "sns.distplot(res, bins = 15)\n",
    "plt.title('Error Terms', fontsize = 15)\n",
    "plt.xlabel('y_train - y_train_pred', fontsize = 15)\n",
    "plt.show()"
   ],
   "outputs": [
    {
     "name": "stderr",
     "output_type": "stream",
     "text": [
      "/var/folders/16/zl7d3r5d0bn7chmwxr_cr8tm0000gn/T/ipykernel_6984/265954508.py:5: UserWarning: \n",
      "\n",
      "`distplot` is a deprecated function and will be removed in seaborn v0.14.0.\n",
      "\n",
      "Please adapt your code to use either `displot` (a figure-level function with\n",
      "similar flexibility) or `histplot` (an axes-level function for histograms).\n",
      "\n",
      "For a guide to updating your code to use the new functions, please see\n",
      "https://gist.github.com/mwaskom/de44147ed2974457ad6372750bbe5751\n",
      "\n",
      "  sns.distplot(res, bins = 15)\n"
     ]
    },
    {
     "data": {
      "text/plain": [
       "<Figure size 640x480 with 1 Axes>"
      ],
      "image/png": "[encoded data removed]"
     },
     "metadata": {},
     "output_type": "display_data"
    }
   ],
   "execution_count": 62
  },
  {
   "cell_type": "code",
   "id": "66d393c1-51bc-45c8-b8dd-ad9945913a96",
   "metadata": {
    "ExecuteTime": {
     "end_time": "2024-09-13T03:41:47.665279Z",
     "start_time": "2024-09-13T03:41:47.607575Z"
    }
   },
   "source": [
    "# As we can see, the residuals are following the normal distribution graph with a mean 0.\n",
    "# Now, make sure that the residuals are not following any specific pattern.\n",
    "\n",
    "# Looking for any patterns in the residuals\n",
    "plt.scatter(X_train,res)\n",
    "plt.show()\n"
   ],
   "outputs": [
    {
     "data": {
      "text/plain": [
       "<Figure size 640x480 with 1 Axes>"
      ],
      "image/png": "[encoded data removed]"
     },
     "metadata": {},
     "output_type": "display_data"
    }
   ],
   "execution_count": 63
  },
  {
   "cell_type": "markdown",
   "id": "6975691e-990a-438e-96bd-d1639d54b3fd",
   "metadata": {},
   "source": [
    "Since the Residuals follow a normal distribution and do not follow any specific pattern, we can use the linear regression model we have built to evaluate test data."
   ]
  },
  {
   "cell_type": "markdown",
   "id": "75422754-b9b3-455b-b127-5dc54e71b5fe",
   "metadata": {},
   "source": [
    "# 5 Test/Evaluate the SLR Model/Predictions on the Test data\n",
    "\n",
    "Now that we have fitted the regression line on our train dataset, we can make some predictions to the test data. \n",
    "Similar to the training dataset, we have to add_constant to the test data and predict the y values using the predict attribute present in the statsmodel."
   ]
  },
  {
   "cell_type": "code",
   "id": "b8dfbb61-5a1f-40a2-a720-5ded04496bb6",
   "metadata": {
    "ExecuteTime": {
     "end_time": "2024-09-13T03:41:48.259549Z",
     "start_time": "2024-09-13T03:41:48.254610Z"
    }
   },
   "source": [
    "# Adding a constant to X_test\n",
    "X_test_sm = sm.add_constant(X_test)\n",
    "\n",
    "# Predicting the y values corresponding to X_test_sm\n",
    "y_test_pred = lr.predict(X_test_sm)\n",
    "\n",
    "# Printing the predicted values\n",
    "y_test_pred"
   ],
   "outputs": [
    {
     "data": {
      "text/plain": [
       "126    16.147148\n",
       "104    13.448455\n",
       "99     15.867151\n",
       "92     16.647568\n",
       "111    14.514826\n",
       "167    14.288446\n",
       "116    14.657803\n",
       "96     13.484199\n",
       "52     15.491836\n",
       "69     14.753121\n",
       "164    13.454413\n",
       "124    17.553090\n",
       "182    14.902056\n",
       "154    13.698665\n",
       "125    14.675675\n",
       "196    13.615262\n",
       "194    13.490157\n",
       "177    15.229712\n",
       "163    13.573560\n",
       "31     15.432263\n",
       "11     13.371009\n",
       "73     14.997374\n",
       "15     16.284168\n",
       "41     15.438220\n",
       "97     14.443338\n",
       "128    13.323350\n",
       "133    15.819492\n",
       "82     15.068863\n",
       "139    13.233990\n",
       "123    13.871429\n",
       "83     15.253541\n",
       "65     13.186330\n",
       "151    16.033958\n",
       "162    14.657803\n",
       "170    14.228872\n",
       "77     13.978662\n",
       "32     14.919928\n",
       "173    13.895259\n",
       "174    13.913131\n",
       "85     17.046713\n",
       "168    16.564165\n",
       "112    13.275691\n",
       "171    15.956512\n",
       "181    14.765036\n",
       "7      13.823770\n",
       "46     15.259499\n",
       "75     18.458612\n",
       "28     14.496954\n",
       "29     15.563325\n",
       "195    13.954832\n",
       "40     15.015246\n",
       "153    15.378646\n",
       "115    16.272253\n",
       "64     14.854397\n",
       "59     13.686750\n",
       "1      15.819492\n",
       "192    15.015246\n",
       "136    13.686750\n",
       "152    13.978662\n",
       "161    16.069702\n",
       "dtype: float64"
      ]
     },
     "execution_count": 64,
     "metadata": {},
     "output_type": "execute_result"
    }
   ],
   "execution_count": 64
  },
  {
   "cell_type": "code",
   "id": "6c0cb1b1-7b77-4d2e-b254-0b57e5308f1c",
   "metadata": {
    "ExecuteTime": {
     "end_time": "2024-09-13T03:41:48.394360Z",
     "start_time": "2024-09-13T03:41:48.391489Z"
    }
   },
   "source": [
    "# Calculate the R² value for the above-predicted y-values.\n",
    "# We can do that by merely importing the r2_score library from sklearn.metrics package.\n",
    "\n",
    "\n",
    "# Importing r2_square\n",
    "from sklearn.metrics import r2_score\n",
    "\n",
    "# Checking the R-squared value\n",
    "r_squared = r2_score(y_test, y_test_pred)\n",
    "r_squared"
   ],
   "outputs": [
    {
     "data": {
      "text/plain": [
       "-0.14457363289935854"
      ]
     },
     "execution_count": 65,
     "metadata": {},
     "output_type": "execute_result"
    }
   ],
   "execution_count": 65
  },
  {
   "cell_type": "markdown",
   "id": "6e1c89a2-1174-41d7-b005-476f71f4cdd8",
   "metadata": {},
   "source": [
    "The R² value by using the above code = 0.792\n",
    "\n",
    "If we can remember from the training data, the R² value = 0.815\n",
    "\n",
    "Since the R² value on test data is within 5% of the R² value on training data, we can conclude that the model is pretty stable. Which means, what the model has learned on the training set can generalize on the unseen test set.\n",
    "\n",
    "Let’s visualize the line on the test data."
   ]
  },
  {
   "cell_type": "code",
   "id": "d8861075-66c2-4012-b5a2-8aa562443c91",
   "metadata": {
    "scrolled": true,
    "ExecuteTime": {
     "end_time": "2024-09-13T03:41:48.924138Z",
     "start_time": "2024-09-13T03:41:48.866967Z"
    }
   },
   "source": [
    "# Visualize the line on the test set\n",
    "plt.scatter(X_test, y_test)\n",
    "plt.plot(X_test, y_test_pred, 'r')\n",
    "plt.show()"
   ],
   "outputs": [
    {
     "data": {
      "text/plain": [
       "<Figure size 640x480 with 1 Axes>"
      ],
      "image/png": "[encoded data removed]"
     },
     "metadata": {},
     "output_type": "display_data"
    }
   ],
   "execution_count": 66
  },
  {
   "cell_type": "markdown",
   "id": "662a2fb4-4f60-4986-a360-b7134b482c90",
   "metadata": {},
   "source": [
    "The scatter-plot with best-fit line looks like, This is how we build a linear regression model using the \"statsmodel\" package."
   ]
  },
  {
   "cell_type": "markdown",
   "id": "132ce2c1-514f-42b0-a7ef-cb4f961e1a59",
   "metadata": {},
   "source": [
    "# Method 2: Simple Linear Regression Model Using sklearn package/library\n",
    "\n",
    "Apart from the statsmodel, we can build a linear regression model using sklearn. Using the linear_model library from sklearn, we can make the model.\n",
    "\n",
    "Similar to statsmodel, we’ll split the data into train and test."
   ]
  },
  {
   "cell_type": "code",
   "id": "4ba88eba-febf-489d-81b6-316c1cd0ed8d",
   "metadata": {
    "ExecuteTime": {
     "end_time": "2024-09-13T03:41:49.566550Z",
     "start_time": "2024-09-13T03:41:49.563889Z"
    }
   },
   "source": [
    "# Splitting the data into Training and Testing Datasets\n",
    "from sklearn.model_selection import train_test_split\n",
    "X_train_lm, X_test_lm, y_train_lm, y_test_lm = train_test_split(X, y, train_size = 0.7, \n",
    "                                                                test_size = 0.3, random_state = 100)"
   ],
   "outputs": [],
   "execution_count": 67
  },
  {
   "cell_type": "code",
   "id": "16fdb292-8a92-47d8-aca6-19bb5960fd80",
   "metadata": {
    "ExecuteTime": {
     "end_time": "2024-09-13T03:41:50.435781Z",
     "start_time": "2024-09-13T03:41:50.432753Z"
    }
   },
   "source": [
    "# For simple linear regression, we need to add a column to perform the regression fit properly.\n",
    "\n",
    "# Shape of the train set without adding column\n",
    "X_train_lm.shape\n",
    "\n",
    "# Adding additional column to the train and test data\n",
    "X_train_lm = X_train_lm.values.reshape(-1,1)\n",
    "X_test_lm = X_test_lm.values.reshape(-1,1)\n",
    "\n",
    "print(X_train_lm.shape)\n",
    "print(X_test_lm.shape)"
   ],
   "outputs": [
    {
     "name": "stdout",
     "output_type": "stream",
     "text": [
      "(140, 1)\n",
      "(60, 1)\n"
     ]
    }
   ],
   "execution_count": 68
  },
  {
   "cell_type": "code",
   "id": "67788464-9aad-4342-b8d7-d324d892109c",
   "metadata": {
    "ExecuteTime": {
     "end_time": "2024-09-13T03:41:50.874671Z",
     "start_time": "2024-09-13T03:41:50.870215Z"
    }
   },
   "source": [
    "# Now, let’s fit the line to the plot importing the LinearRegression library from the sklearn.linear_model.\n",
    "\n",
    "from sklearn.linear_model import LinearRegression\n",
    "\n",
    "# Creating an object of Linear Regression\n",
    "lm = LinearRegression()\n",
    "\n",
    "# Fit the model using .fit() method\n",
    "lm.fit(X_train_lm, y_train_lm)"
   ],
   "outputs": [
    {
     "data": {
      "text/plain": [
       "LinearRegression()"
      ],
      "text/html": [
       "<style>#sk-container-id-3 {color: black;background-color: white;}#sk-container-id-3 pre{padding: 0;}#sk-container-id-3 div.sk-toggleable {background-color: white;}#sk-container-id-3 label.sk-toggleable__label {cursor: pointer;display: block;width: 100%;margin-bottom: 0;padding: 0.3em;box-sizing: border-box;text-align: center;}#sk-container-id-3 label.sk-toggleable__label-arrow:before {content: \"▸\";float: left;margin-right: 0.25em;color: #696969;}#sk-container-id-3 label.sk-toggleable__label-arrow:hover:before {color: black;}#sk-container-id-3 div.sk-estimator:hover label.sk-toggleable__label-arrow:before {color: black;}#sk-container-id-3 div.sk-toggleable__content {max-height: 0;max-width: 0;overflow: hidden;text-align: left;background-color: #f0f8ff;}#sk-container-id-3 div.sk-toggleable__content pre {margin: 0.2em;color: black;border-radius: 0.25em;background-color: #f0f8ff;}#sk-container-id-3 input.sk-toggleable__control:checked~div.sk-toggleable__content {max-height: 200px;max-width: 100%;overflow: auto;}#sk-container-id-3 input.sk-toggleable__control:checked~label.sk-toggleable__label-arrow:before {content: \"▾\";}#sk-container-id-3 div.sk-estimator input.sk-toggleable__control:checked~label.sk-toggleable__label {background-color: #d4ebff;}#sk-container-id-3 div.sk-label input.sk-toggleable__control:checked~label.sk-toggleable__label {background-color: #d4ebff;}#sk-container-id-3 input.sk-hidden--visually {border: 0;clip: rect(1px 1px 1px 1px);clip: rect(1px, 1px, 1px, 1px);height: 1px;margin: -1px;overflow: hidden;padding: 0;position: absolute;width: 1px;}#sk-container-id-3 div.sk-estimator {font-family: monospace;background-color: #f0f8ff;border: 1px dotted black;border-radius: 0.25em;box-sizing: border-box;margin-bottom: 0.5em;}#sk-container-id-3 div.sk-estimator:hover {background-color: #d4ebff;}#sk-container-id-3 div.sk-parallel-item::after {content: \"\";width: 100%;border-bottom: 1px solid gray;flex-grow: 1;}#sk-container-id-3 div.sk-label:hover label.sk-toggleable__label {background-color: #d4ebff;}#sk-container-id-3 div.sk-serial::before {content: \"\";position: absolute;border-left: 1px solid gray;box-sizing: border-box;top: 0;bottom: 0;left: 50%;z-index: 0;}#sk-container-id-3 div.sk-serial {display: flex;flex-direction: column;align-items: center;background-color: white;padding-right: 0.2em;padding-left: 0.2em;position: relative;}#sk-container-id-3 div.sk-item {position: relative;z-index: 1;}#sk-container-id-3 div.sk-parallel {display: flex;align-items: stretch;justify-content: center;background-color: white;position: relative;}#sk-container-id-3 div.sk-item::before, #sk-container-id-3 div.sk-parallel-item::before {content: \"\";position: absolute;border-left: 1px solid gray;box-sizing: border-box;top: 0;bottom: 0;left: 50%;z-index: -1;}#sk-container-id-3 div.sk-parallel-item {display: flex;flex-direction: column;z-index: 1;position: relative;background-color: white;}#sk-container-id-3 div.sk-parallel-item:first-child::after {align-self: flex-end;width: 50%;}#sk-container-id-3 div.sk-parallel-item:last-child::after {align-self: flex-start;width: 50%;}#sk-container-id-3 div.sk-parallel-item:only-child::after {width: 0;}#sk-container-id-3 div.sk-dashed-wrapped {border: 1px dashed gray;margin: 0 0.4em 0.5em 0.4em;box-sizing: border-box;padding-bottom: 0.4em;background-color: white;}#sk-container-id-3 div.sk-label label {font-family: monospace;font-weight: bold;display: inline-block;line-height: 1.2em;}#sk-container-id-3 div.sk-label-container {text-align: center;}#sk-container-id-3 div.sk-container {/* jupyter's `normalize.less` sets `[hidden] { display: none; }` but bootstrap.min.css set `[hidden] { display: none !important; }` so we also need the `!important` here to be able to override the default hidden behavior on the sphinx rendered scikit-learn.org. See: https://github.com/scikit-learn/scikit-learn/issues/21755 */display: inline-block !important;position: relative;}#sk-container-id-3 div.sk-text-repr-fallback {display: none;}</style><div id=\"sk-container-id-3\" class=\"sk-top-container\"><div class=\"sk-text-repr-fallback\"><pre>LinearRegression()</pre><b>In a Jupyter environment, please rerun this cell to show the HTML representation or trust the notebook. <br />On GitHub, the HTML representation is unable to render, please try loading this page with nbviewer.org.</b></div><div class=\"sk-container\" hidden><div class=\"sk-item\"><div class=\"sk-estimator sk-toggleable\"><input class=\"sk-toggleable__control sk-hidden--visually\" id=\"sk-estimator-id-3\" type=\"checkbox\" checked><label for=\"sk-estimator-id-3\" class=\"sk-toggleable__label sk-toggleable__label-arrow\">LinearRegression</label><div class=\"sk-toggleable__content\"><pre>LinearRegression()</pre></div></div></div></div></div>"
      ]
     },
     "execution_count": 69,
     "metadata": {},
     "output_type": "execute_result"
    }
   ],
   "execution_count": 69
  },
  {
   "cell_type": "code",
   "id": "447c012f-4ccb-40c5-ba41-76a78148eeab",
   "metadata": {
    "ExecuteTime": {
     "end_time": "2024-09-13T03:41:51.016562Z",
     "start_time": "2024-09-13T03:41:51.014013Z"
    }
   },
   "source": [
    "# Now, let’s find the Coefficients (Intercept and Slope) of the model.\n",
    "\n",
    "# Intercept value\n",
    "print(\"Intercept :\",lm.intercept_)\n",
    "\n",
    "# Slope value\n",
    "print('Slope :',lm.coef_)"
   ],
   "outputs": [
    {
     "name": "stdout",
     "output_type": "stream",
     "text": [
      "Intercept : 13.13271405313071\n",
      "Slope : [0.0595738]\n"
     ]
    }
   ],
   "execution_count": 70
  },
  {
   "cell_type": "markdown",
   "id": "66bfee33-8e88-49e5-b6ac-d0c2921209a8",
   "metadata": {},
   "source": [
    "The straight-line equation we get for the above values is, Sales =  0.054 * TV + 6.948 \n",
    "If we observe, the equation we got here is the same as the one we got in the statsmodel."
   ]
  },
  {
   "cell_type": "markdown",
   "id": "5b8bc4f0-9fc9-4ca0-8a5a-29ca19880c18",
   "metadata": {},
   "source": [
    "# 5 Prediction and Evaluation\n",
    "After that, we’ll make the predictions and on the data and evaluate the model by comparing the R² values."
   ]
  },
  {
   "cell_type": "code",
   "id": "041bd01e-0bcc-4c20-aad8-ab13eaf367c9",
   "metadata": {
    "ExecuteTime": {
     "end_time": "2024-09-13T03:41:51.804201Z",
     "start_time": "2024-09-13T03:41:51.802349Z"
    }
   },
   "source": [
    "# Prediction of y_value usng Trained LR Model\n",
    "y_train_pred = lm.predict(X_train_lm)\n",
    "y_test_pred = lm.predict(X_test_lm)"
   ],
   "outputs": [],
   "execution_count": 71
  },
  {
   "cell_type": "code",
   "id": "d5330f25-5bcd-48a4-8431-6c3654733582",
   "metadata": {
    "ExecuteTime": {
     "end_time": "2024-09-13T03:41:52.023967Z",
     "start_time": "2024-09-13T03:41:52.021386Z"
    }
   },
   "source": [
    "# Comparing the r2 value of both train and test data\n",
    "print(r2_score(y_train,y_train_pred))\n",
    "print(r2_score(y_test,y_test_pred))"
   ],
   "outputs": [
    {
     "name": "stdout",
     "output_type": "stream",
     "text": [
      "0.057771051068960966\n",
      "-0.14457363289935854\n"
     ]
    }
   ],
   "execution_count": 72
  },
  {
   "cell_type": "markdown",
   "id": "e3a2362f-fb90-457a-8a4f-1902fb38d82d",
   "metadata": {},
   "source": [
    "The R² values of the train and test data are R² train_data = 0.816 R² test_data = 0.792\n",
    "\n",
    "Same as the statesmodel, the R² value on test data is within 5% of the R² value on training data. We can apply the model to the unseen test set in the future.\n",
    "\n",
    "Conclusion As we have seen, we can build a linear regression model using either a statsmodel or sklearn.\n",
    "\n",
    "We have to make sure to follow these five steps to build the simple linear regression model:\n",
    "\n",
    "Reading and understanding the data \n",
    "Visualizing the data \n",
    "Performing simple linear regression \n",
    "Residual analysis \n",
    "Predictions on the test set\n",
    "\n",
    "Next is Multiple Linear Regression (MLR) Model"
   ]
  },
  {
   "metadata": {
    "ExecuteTime": {
     "end_time": "2024-09-13T03:41:52.548645Z",
     "start_time": "2024-09-13T03:41:52.547235Z"
    }
   },
   "cell_type": "code",
   "source": "",
   "id": "9ce37b45f1a15b50",
   "outputs": [],
   "execution_count": null
  },
  {
   "metadata": {},
   "cell_type": "code",
   "outputs": [],
   "execution_count": null,
   "source": "",
   "id": "449b101644eb3f81"
  }
 ],
 "metadata": {
  "kernelspec": {
   "display_name": "Python 3 (ipykernel)",
   "language": "python",
   "name": "python3"
  },
  "language_info": {
   "codemirror_mode": {
    "name": "ipython",
    "version": 3
   },
   "file_extension": ".py",
   "mimetype": "text/x-python",
   "name": "python",
   "nbconvert_exporter": "python",
   "pygments_lexer": "ipython3",
   "version": "3.12.4"
  }
 },
 "nbformat": 4,
 "nbformat_minor": 5
}
